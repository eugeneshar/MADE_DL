{
 "cells": [
  {
   "cell_type": "markdown",
   "metadata": {},
   "source": [
    "# DL lab"
   ]
  },
  {
   "cell_type": "markdown",
   "metadata": {},
   "source": [
    "Загрузим необходимые библиотеки и определим константы, конфигурирующие модели и обучение."
   ]
  },
  {
   "cell_type": "code",
   "execution_count": 1,
   "metadata": {
    "id": "EobHW8puKnz_"
   },
   "outputs": [
    {
     "name": "stderr",
     "output_type": "stream",
     "text": [
      "/opt/homebrew/lib/python3.10/site-packages/tqdm/auto.py:22: TqdmWarning: IProgress not found. Please update jupyter and ipywidgets. See https://ipywidgets.readthedocs.io/en/stable/user_install.html\n",
      "  from .autonotebook import tqdm as notebook_tqdm\n"
     ]
    }
   ],
   "source": [
    "import albumentations\n",
    "import numpy as np\n",
    "import pandas as pd\n",
    "import os\n",
    "import glob\n",
    "import random\n",
    "from tqdm import tqdm\n",
    "\n",
    "# PyTorch Model\n",
    "import torch\n",
    "from torch import nn\n",
    "from torch.nn import functional as F\n",
    "\n",
    "# Dataset Loading\n",
    "from PIL import Image\n",
    "from PIL import ImageFile\n",
    "\n",
    "import matplotlib.pyplot as plt\n",
    "import matplotlib.image as mpimg\n",
    "\n",
    "# Model Training\n",
    "from sklearn.preprocessing import LabelEncoder\n",
    "from sklearn.model_selection import train_test_split\n",
    "from sklearn.metrics import accuracy_score"
   ]
  },
  {
   "cell_type": "code",
   "execution_count": 2,
   "metadata": {
    "id": "Q7owOpHEAZd4"
   },
   "outputs": [
    {
     "name": "stdout",
     "output_type": "stream",
     "text": [
      "Using device: cpu\n"
     ]
    }
   ],
   "source": [
    "# Configurations for the files\n",
    "DIR = \"samples/\"\n",
    "BATCH_SIZE = 16\n",
    "IMG_HEIGHT = 75\n",
    "IMG_WIDTH = 300\n",
    "EPOCHS = 200\n",
    "NUM_WORKERS = 0\n",
    "DEVICE = \"cpu\"\n",
    "print(f\"Using device: {DEVICE}\")"
   ]
  },
  {
   "cell_type": "markdown",
   "metadata": {
    "id": "iarKvjo2UQmS"
   },
   "source": [
    "# Анализ избражения\n",
    "Пробежимся по нескольким изобрежениям и сравним их с метками на предмет адекватной разметки. "
   ]
  },
  {
   "cell_type": "code",
   "execution_count": 3,
   "metadata": {
    "id": "d6fYx-baUQJJ",
    "outputId": "18f80da2-cbe9-4af2-8623-dc3fc5fd81f0"
   },
   "outputs": [
    {
     "data": {
      "text/html": [
       "<div>\n",
       "<style scoped>\n",
       "    .dataframe tbody tr th:only-of-type {\n",
       "        vertical-align: middle;\n",
       "    }\n",
       "\n",
       "    .dataframe tbody tr th {\n",
       "        vertical-align: top;\n",
       "    }\n",
       "\n",
       "    .dataframe thead th {\n",
       "        text-align: right;\n",
       "    }\n",
       "</style>\n",
       "<table border=\"1\" class=\"dataframe\">\n",
       "  <thead>\n",
       "    <tr style=\"text-align: right;\">\n",
       "      <th></th>\n",
       "      <th>paths</th>\n",
       "      <th>labels</th>\n",
       "    </tr>\n",
       "  </thead>\n",
       "  <tbody>\n",
       "    <tr>\n",
       "      <th>0</th>\n",
       "      <td>samples/p5g5m.png</td>\n",
       "      <td>p5g5m</td>\n",
       "    </tr>\n",
       "    <tr>\n",
       "      <th>1</th>\n",
       "      <td>samples/e72cd.png</td>\n",
       "      <td>e72cd</td>\n",
       "    </tr>\n",
       "    <tr>\n",
       "      <th>2</th>\n",
       "      <td>samples/pgmn2.png</td>\n",
       "      <td>pgmn2</td>\n",
       "    </tr>\n",
       "    <tr>\n",
       "      <th>3</th>\n",
       "      <td>samples/6cm6m.png</td>\n",
       "      <td>6cm6m</td>\n",
       "    </tr>\n",
       "    <tr>\n",
       "      <th>4</th>\n",
       "      <td>samples/68wfd.png</td>\n",
       "      <td>68wfd</td>\n",
       "    </tr>\n",
       "  </tbody>\n",
       "</table>\n",
       "</div>"
      ],
      "text/plain": [
       "               paths labels\n",
       "0  samples/p5g5m.png  p5g5m\n",
       "1  samples/e72cd.png  e72cd\n",
       "2  samples/pgmn2.png  pgmn2\n",
       "3  samples/6cm6m.png  6cm6m\n",
       "4  samples/68wfd.png  68wfd"
      ]
     },
     "execution_count": 3,
     "metadata": {},
     "output_type": "execute_result"
    }
   ],
   "source": [
    "paths = []\n",
    "labels = []\n",
    "for image in os.listdir(DIR):\n",
    "    paths.append(os.path.join(DIR, image))\n",
    "    labels.append(image.split(\".\")[0])\n",
    "\n",
    "df = pd.DataFrame({\n",
    "    \"paths\": paths,\n",
    "    \"labels\": labels\n",
    "})\n",
    "\n",
    "df.head()"
   ]
  },
  {
   "cell_type": "code",
   "execution_count": 4,
   "metadata": {
    "id": "J3kEvWnS2khP"
   },
   "outputs": [],
   "source": [
    "def show_random_images(df, column_name):\n",
    "    f = plt.figure(figsize=(10,10))\n",
    "    i=1\n",
    "    for i in range(16):\n",
    "        i += 1\n",
    "        ax = f.add_subplot(4,4,i)\n",
    "        sample = random.choice(df[column_name])\n",
    "        image = mpimg.imread(sample)\n",
    "        ax.set_title(sample.split(\"/\")[-1])\n",
    "        plt.imshow(image)\n"
   ]
  },
  {
   "cell_type": "markdown",
   "metadata": {},
   "source": [
    "Каждая капча состоит из 5 символов, иногда изображение искажено черточками и размазанными буквами."
   ]
  },
  {
   "cell_type": "code",
   "execution_count": 5,
   "metadata": {
    "id": "oR7gRISY3NIi",
    "outputId": "ec026679-1fd1-4c8f-d2c1-d94f4831a870"
   },
   "outputs": [
    {
     "data": {
      "image/png": "[encoded data removed]",
      "text/plain": [
       "<Figure size 1000x1000 with 16 Axes>"
      ]
     },
     "metadata": {},
     "output_type": "display_data"
    }
   ],
   "source": [
    "show_random_images(df, \"paths\")"
   ]
  },
  {
   "cell_type": "markdown",
   "metadata": {},
   "source": [
    "# Model Definition\n",
    "\n",
    "Определим модель. Будем использовать следующую архитектуру: исполользуем два слоя CNN для выделения информации о символах, а затем используем GRU, чтобы закодировать последовательность символов. Мы используем CTCLoss в качестве loss функции."
   ]
  },
  {
   "cell_type": "code",
   "execution_count": 6,
   "metadata": {},
   "outputs": [],
   "source": [
    "def get_loss_function(x, bs, targets):\n",
    "    log_softmax_values = F.log_softmax(x, 2)\n",
    "\n",
    "    input_lengths = torch.full(\n",
    "        size=(bs,), fill_value=log_softmax_values.size(0), dtype=torch.int32\n",
    "    )\n",
    "\n",
    "    target_lengths = torch.full(\n",
    "        size=(bs,), fill_value=targets.size(1), dtype=torch.int32\n",
    "    )\n",
    "\n",
    "    return nn.CTCLoss(blank=0)(log_softmax_values, targets, input_lengths, target_lengths)"
   ]
  },
  {
   "cell_type": "code",
   "execution_count": 7,
   "metadata": {
    "id": "X7olyEG3DMCx"
   },
   "outputs": [],
   "source": [
    "class MyCaptchaModel(nn.Module):\n",
    "    def __init__(self, num_chars):\n",
    "        super(MyCaptchaModel, self).__init__()\n",
    "        \n",
    "        # CNN Layer\n",
    "        self.conv1 = nn.Conv2d(3, 128, kernel_size=(3,3), padding=(1,1))\n",
    "        self.maxpool1 = nn.MaxPool2d(kernel_size=(2,2))\n",
    "        \n",
    "        self.conv2 = nn.Conv2d(128, 64, kernel_size=(3,3), padding=(1,1))\n",
    "        self.maxpool2 = nn.MaxPool2d(kernel_size=(2,2))\n",
    "        \n",
    "        # RNN Layer Preprocess\n",
    "        self.linear1 = nn.Linear(1152, 64)\n",
    "        self.drop1 = nn.Dropout(0.2)\n",
    "        \n",
    "        # Здесь мы выбрали GRU вместо LSTM, поскольку GRU немного быстрее\n",
    "        self.gru = nn.GRU(64, 32, bidirectional=True, num_layers=2, dropout=0.25, batch_first=True)\n",
    "        self.output = nn.Linear(64, num_chars+1)\n",
    "        \n",
    "        \n",
    "    def forward(self, images, targets=None):  \n",
    "        bs, channel, height, width = images.size()\n",
    "        \n",
    "        x = F.relu(self.conv1(images))\n",
    "        x = self.maxpool1(x)\n",
    "\n",
    "        x = F.relu(self.conv2(x))\n",
    "        x = self.maxpool2(x)\n",
    "\n",
    "        x = x.permute(0, 3, 1, 2)\n",
    "        x = x.view(bs, x.size(1), -1)\n",
    "\n",
    "        x = self.linear1(x)\n",
    "        x = self.drop1(x)\n",
    "\n",
    "        x, _ = self.gru(x)\n",
    "        x = self.output(x)\n",
    "        x = x.permute(1, 0, 2)\n",
    "\n",
    "        if targets is not None:\n",
    "            loss = get_loss_function(x, bs, targets)\n",
    "            return x, loss\n",
    "        \n",
    "        return x, None"
   ]
  },
  {
   "cell_type": "markdown",
   "metadata": {},
   "source": [
    "Опишем функции для обучения и валидации, которые будут пропускать через модель данные и возвращать loss."
   ]
  },
  {
   "cell_type": "code",
   "execution_count": 8,
   "metadata": {
    "id": "2V_wxo_qCC8w"
   },
   "outputs": [],
   "source": [
    "def train_function(model, data_loader, optimizer):\n",
    "    model.train()\n",
    "    fin_loss = 0\n",
    "    for data in data_loader:\n",
    "        for k, v in data.items():\n",
    "            data[k] = v.to(DEVICE)\n",
    "        \n",
    "        optimizer.zero_grad()\n",
    "        _, loss = model(**data)\n",
    "        loss.backward()\n",
    "        optimizer.step()\n",
    "        fin_loss += loss.item()\n",
    "\n",
    "    return fin_loss / len(data_loader)\n",
    "\n",
    "\n",
    "def eval_function(model, data_loader):\n",
    "    model.eval()\n",
    "    fin_loss = 0\n",
    "    fin_preds = []\n",
    "    with torch.no_grad(): \n",
    "        tk = tqdm(data_loader, total=len(data_loader))\n",
    "        for data in tk:\n",
    "            for k, v in data.items():\n",
    "                data[k] = v.to(DEVICE)\n",
    "            \n",
    "            batch_preds, loss = model(**data)\n",
    "            fin_loss += loss.item()\n",
    "            fin_preds.append(batch_preds)\n",
    "\n",
    "        return fin_preds, fin_loss / len(data_loader)"
   ]
  },
  {
   "cell_type": "markdown",
   "metadata": {
    "id": "vRwhq12oi6zU"
   },
   "source": [
    "# Label encoding\n",
    "\n",
    "Теперь закодируем имя каждой капчи с помощью Label Encoder, соответствующий вектор и будет таргетным значением для модели."
   ]
  },
  {
   "cell_type": "code",
   "execution_count": 9,
   "metadata": {
    "id": "IYzTq9NaiFIG"
   },
   "outputs": [],
   "source": [
    "def encode_targets():\n",
    "  # Load images from files\n",
    "  image_files = glob.glob(os.path.join(DIR, \"*.jpg\"))\n",
    "  image_files_png = glob.glob(os.path.join(DIR, \"*.png\"))\n",
    "  image_files.extend(image_files_png)\n",
    "  targets_orig = [x.split(\"/\")[-1].split(\".\")[0] for x in image_files]\n",
    "  targets = [[c for c in x] for x in targets_orig]\n",
    "  targets_flat = [c for clist in targets for c in clist] # squeeze\n",
    "\n",
    "  # Encode images\n",
    "  lbl_enc = LabelEncoder()\n",
    "  lbl_enc.fit(targets_flat)\n",
    "\n",
    "  targets_enc = [lbl_enc.transform(x) for x in targets]\n",
    "  targets_enc = np.array(targets_enc) + 1 # transform to np and remove 0 index\n",
    "\n",
    "  return image_files, targets_enc, targets_orig, lbl_enc"
   ]
  },
  {
   "cell_type": "code",
   "execution_count": 10,
   "metadata": {
    "id": "coFDxlpQiSqj"
   },
   "outputs": [],
   "source": [
    "# Train-test split\n",
    "image_files, targets_enc, targets_orig, lbl_enc = encode_targets()\n",
    "\n",
    "(train_imgs, test_imgs, train_targets, test_targets, _, test_orig_targets) = train_test_split(\n",
    "    image_files, targets_enc, targets_orig, test_size=0.1, random_state=0)"
   ]
  },
  {
   "cell_type": "markdown",
   "metadata": {},
   "source": [
    "## Datset Classifier\n",
    "\n",
    "Мы определим класс, который описывает пайплайн загрузки данных для модели, которые мы будет передавать в DataLoader из torch."
   ]
  },
  {
   "cell_type": "code",
   "execution_count": 11,
   "metadata": {
    "id": "EoMFeyTSKk0R"
   },
   "outputs": [],
   "source": [
    "ImageFile.LoadTruncatedImages = True\n",
    "\n",
    "class DatasetClassifier:\n",
    "    def __init__(self, image_paths, targets, resize=None):\n",
    "        self.image_paths = image_paths\n",
    "        self.targets = targets\n",
    "        self.resize = resize\n",
    "        self.aug = albumentations.Compose(\n",
    "            [\n",
    "             albumentations.Normalize(always_apply=True)\n",
    "            ]\n",
    "            )\n",
    "    \n",
    "    def __len__(self):\n",
    "        return len(self.image_paths)\n",
    "    \n",
    "    def __getitem__(self, item):\n",
    "        image = Image.open(self.image_paths[item]).convert(\"RGB\")  # TODO: replace with grayscale\n",
    "        target = self.targets[item]\n",
    "        \n",
    "        if self.resize is not None:\n",
    "            image = image.resize((self.resize[1], self.resize[0]), resample=Image.BILINEAR)\n",
    "        \n",
    "        image = np.array(image)\n",
    "        augmented = self.aug(image=image)\n",
    "        image = augmented[\"image\"]\n",
    "        image = np.transpose(image, (2, 0, 1)).astype(np.float32)\n",
    "        \n",
    "        return {\n",
    "            \"images\": torch.tensor(image, dtype=torch.float),\n",
    "            \"targets\": torch.tensor(target, dtype=torch.long)\n",
    "        }"
   ]
  },
  {
   "cell_type": "code",
   "execution_count": 12,
   "metadata": {
    "id": "EXloBSGEh0k3",
    "outputId": "bc718539-ec96-44bf-c505-f9c1bf791dae"
   },
   "outputs": [],
   "source": [
    "# Загрузим данные для теста и трейна в DataLoader, используя наш класс\n",
    "train_dataset = DatasetClassifier(\n",
    "    image_paths=train_imgs, targets=train_targets, resize=(IMG_HEIGHT, IMG_WIDTH)\n",
    ")\n",
    "\n",
    "train_loader = torch.utils.data.DataLoader(\n",
    "    train_dataset,\n",
    "    batch_size=BATCH_SIZE,\n",
    "    num_workers=NUM_WORKERS,\n",
    "    shuffle=True,\n",
    ")\n",
    "\n",
    "test_dataset = DatasetClassifier(\n",
    "    image_paths=test_imgs, targets=test_targets, resize=(IMG_HEIGHT, IMG_WIDTH)\n",
    ")\n",
    "\n",
    "test_loader = torch.utils.data.DataLoader(\n",
    "    test_dataset,\n",
    "    batch_size=BATCH_SIZE,\n",
    "    num_workers=NUM_WORKERS,\n",
    "    shuffle=False\n",
    ")"
   ]
  },
  {
   "cell_type": "code",
   "execution_count": 13,
   "metadata": {},
   "outputs": [
    {
     "name": "stderr",
     "output_type": "stream",
     "text": [
      "/var/folders/46/9pmddt197tg1cz85qrsc593w0000gn/T/ipykernel_2984/1854501779.py:22: DeprecationWarning: BILINEAR is deprecated and will be removed in Pillow 10 (2023-07-01). Use Resampling.BILINEAR instead.\n",
      "  image = image.resize((self.resize[1], self.resize[0]), resample=Image.BILINEAR)\n"
     ]
    },
    {
     "name": "stdout",
     "output_type": "stream",
     "text": [
      "tensor([[10, 11, 12, 19, 18],\n",
      "        [15, 15, 15,  4,  6],\n",
      "        [13, 11, 13, 17,  3],\n",
      "        [11,  3,  5, 19, 17],\n",
      "        [13, 17, 15, 14,  5],\n",
      "        [ 5,  4, 15, 14, 17],\n",
      "        [ 1,  2,  4,  5, 13],\n",
      "        [15,  8,  3,  4, 10],\n",
      "        [ 9,  7, 15,  7,  9],\n",
      "        [ 5,  6, 10, 11, 19],\n",
      "        [ 4, 18,  6, 18,  4],\n",
      "        [19, 10, 10,  2, 13],\n",
      "        [ 8, 13, 10,  3, 14],\n",
      "        [17,  3, 15, 12, 18],\n",
      "        [ 6, 17, 15,  6,  3],\n",
      "        [10,  5, 12,  9, 15]])\n",
      "tensor([[ 2,  3, 16,  9, 15],\n",
      "        [15, 12,  9, 17, 19],\n",
      "        [ 6,  6,  2,  7,  6],\n",
      "        [19, 17,  5,  5,  6],\n",
      "        [17, 19,  9,  1,  4],\n",
      "        [ 5,  8, 15, 15, 14],\n",
      "        [19,  3, 13,  2,  8],\n",
      "        [ 3, 17,  6,  5, 13],\n",
      "        [10,  6,  9,  4, 18],\n",
      "        [18,  8, 11, 14,  5],\n",
      "        [16, 16, 18,  6,  6],\n",
      "        [ 6,  5,  2,  3, 19],\n",
      "        [ 6,  4, 16, 12, 17],\n",
      "        [15, 15,  5, 17,  5],\n",
      "        [ 4, 11, 18, 16, 16],\n",
      "        [ 6,  7, 11, 11,  9]])\n",
      "tensor([[10, 19, 16,  6, 15],\n",
      "        [19, 10,  2, 14,  2],\n",
      "        [18, 15, 15,  3, 10],\n",
      "        [13,  8, 18, 19, 19],\n",
      "        [ 5,  3,  8,  2, 16],\n",
      "        [16, 17, 11,  8, 14],\n",
      "        [15,  8, 17, 15, 15],\n",
      "        [17, 14, 16, 14, 16],\n",
      "        [ 7,  9, 14,  3,  5],\n",
      "        [ 2,  7,  6, 13,  1],\n",
      "        [10, 19, 18, 15,  9],\n",
      "        [ 4,  2,  6, 15, 12],\n",
      "        [15, 19,  2, 10, 17],\n",
      "        [ 4, 15, 13, 13, 13],\n",
      "        [ 8, 19,  9,  7,  1],\n",
      "        [15,  6, 12, 12,  1]])\n",
      "tensor([[19, 11, 19, 15,  3],\n",
      "        [10,  1,  1, 15,  6],\n",
      "        [ 4, 14, 15, 16, 10],\n",
      "        [14, 18, 19, 18, 17],\n",
      "        [18, 17,  3,  5,  4],\n",
      "        [18, 12, 13,  5,  4],\n",
      "        [ 8,  2,  4, 12,  5],\n",
      "        [11,  1, 14, 13,  1],\n",
      "        [12, 16,  2, 17, 19],\n",
      "        [ 5,  3,  5, 18,  7],\n",
      "        [18,  6,  6,  3,  5],\n",
      "        [ 2,  2,  8,  1,  1],\n",
      "        [ 4, 16, 14,  5,  8],\n",
      "        [17,  3,  5, 11, 16],\n",
      "        [15,  7, 16, 12, 11],\n",
      "        [ 5,  7,  1,  4, 19]])\n",
      "tensor([[18,  3, 13, 13,  4],\n",
      "        [13, 10,  7, 12,  8],\n",
      "        [17,  6,  4, 17,  7],\n",
      "        [19,  9, 15, 12,  9],\n",
      "        [ 6,  5, 15,  6, 16],\n",
      "        [ 1,  4, 14,  5, 16],\n",
      "        [ 9, 12,  9,  1, 19],\n",
      "        [ 4, 10, 18, 15, 14],\n",
      "        [15, 10, 19, 12, 11],\n",
      "        [ 8,  1,  7, 13,  7],\n",
      "        [12, 13,  6, 14, 13],\n",
      "        [19, 16, 16,  7, 12],\n",
      "        [ 2,  8, 15, 19, 12],\n",
      "        [ 1, 18,  6,  8, 14],\n",
      "        [17, 10,  1, 13,  8],\n",
      "        [ 5, 12,  1, 19,  9]])\n",
      "tensor([[11, 10, 17, 15, 19],\n",
      "        [ 8,  3, 19,  4, 18],\n",
      "        [10, 10, 15, 16, 12],\n",
      "        [19,  9, 14,  9, 17],\n",
      "        [ 6,  3,  7,  4,  2],\n",
      "        [ 4,  7, 16, 15, 16],\n",
      "        [ 9, 13,  9, 13,  8],\n",
      "        [ 2, 17, 15, 10,  2],\n",
      "        [ 4, 18, 10,  1, 11],\n",
      "        [ 4,  6,  3, 10,  6],\n",
      "        [ 3, 19,  9,  7,  4],\n",
      "        [ 5, 15,  4, 12, 10],\n",
      "        [15,  3, 18, 18,  4],\n",
      "        [ 5, 11, 15, 10,  2],\n",
      "        [16,  1, 10, 17,  6],\n",
      "        [ 4,  6,  8,  1,  6]])\n",
      "tensor([[10, 17,  7, 10,  2],\n",
      "        [19, 10, 13,  7, 15],\n",
      "        [11, 12, 13, 18,  4],\n",
      "        [11, 12, 18,  2,  3],\n",
      "        [15, 12,  1, 15,  7],\n",
      "        [ 2,  3, 12, 18, 14],\n",
      "        [12, 15,  8, 12, 17],\n",
      "        [ 9,  3,  8, 15, 19],\n",
      "        [ 4,  8, 13, 16,  1],\n",
      "        [ 7, 10,  7, 11, 16],\n",
      "        [ 7,  8,  8, 14,  3],\n",
      "        [ 1, 18,  9,  1, 15],\n",
      "        [12, 13,  2,  7,  8],\n",
      "        [16, 10, 17,  2,  7],\n",
      "        [ 3,  3, 12, 19,  8],\n",
      "        [10,  9, 11,  7, 19]])\n",
      "tensor([[16, 14,  2,  5,  2],\n",
      "        [12, 19, 12,  8, 15],\n",
      "        [ 7,  7,  8, 13, 18],\n",
      "        [10, 10, 16, 19,  8],\n",
      "        [13,  6, 13, 15, 12],\n",
      "        [ 7,  3, 17,  6, 18],\n",
      "        [18,  2, 10, 11,  8],\n",
      "        [ 9, 10, 12, 11, 15],\n",
      "        [ 4, 12,  2, 13, 12],\n",
      "        [ 2,  5, 15, 18,  3],\n",
      "        [ 3,  2, 14, 15,  4],\n",
      "        [19, 19, 15,  4,  6],\n",
      "        [16, 13,  3,  8, 12],\n",
      "        [18, 12,  3, 16,  3],\n",
      "        [15,  6, 13,  3, 12],\n",
      "        [ 3,  2, 13, 11, 19]])\n",
      "tensor([[10,  5,  5,  5, 14],\n",
      "        [13, 10, 15, 13,  2],\n",
      "        [ 1,  4, 11, 13, 16],\n",
      "        [14,  8,  3, 11, 15],\n",
      "        [ 7, 17, 19,  6, 10],\n",
      "        [17,  1, 15,  6, 11],\n",
      "        [13, 17,  3,  5,  7],\n",
      "        [19,  2,  1, 19, 19],\n",
      "        [15,  6, 11,  8, 18],\n",
      "        [ 3,  1, 18, 16, 19],\n",
      "        [16, 15, 15, 17, 19],\n",
      "        [11,  4, 15,  5,  5],\n",
      "        [ 4, 19, 17, 17, 12],\n",
      "        [ 4,  6, 17, 10, 16],\n",
      "        [11,  6, 18,  3,  4],\n",
      "        [14,  2, 17, 12, 17]])\n",
      "tensor([[ 9, 15, 14, 15, 15],\n",
      "        [ 4, 14,  9, 19,  6],\n",
      "        [ 7, 15, 15,  6,  2],\n",
      "        [ 8, 17,  4, 15, 12],\n",
      "        [18,  2,  6,  8, 12],\n",
      "        [ 1,  1,  5, 14, 10],\n",
      "        [ 8, 10,  8,  8,  2],\n",
      "        [18,  2, 12, 17, 12],\n",
      "        [19,  3,  7,  9,  2],\n",
      "        [ 6, 12, 14,  9, 19],\n",
      "        [11, 17,  9, 12,  4],\n",
      "        [18,  7, 18, 15, 16],\n",
      "        [10,  1, 19,  9, 17],\n",
      "        [ 9, 17, 13, 19, 18],\n",
      "        [19,  1,  3,  2,  5],\n",
      "        [ 6,  5, 19,  5, 12]])\n",
      "tensor([[ 7, 18, 11, 12,  6],\n",
      "        [16, 10,  9, 16,  3],\n",
      "        [16,  4, 13,  4, 14],\n",
      "        [17, 13, 15, 17, 16],\n",
      "        [14, 19,  9,  2,  9],\n",
      "        [ 2,  7, 15,  4,  6],\n",
      "        [15, 14, 19,  1, 18],\n",
      "        [ 1,  2, 15,  7,  7],\n",
      "        [ 4, 15, 16,  3, 14],\n",
      "        [11,  1, 10,  5,  5],\n",
      "        [ 7,  2,  1, 12,  2],\n",
      "        [18,  2,  3,  6, 15],\n",
      "        [15,  3,  5,  3,  9],\n",
      "        [19, 12, 10, 15,  6],\n",
      "        [ 2,  6,  2, 13,  8],\n",
      "        [ 1,  4, 17,  4,  2]])\n",
      "tensor([[13, 15, 19,  5,  8],\n",
      "        [ 2, 17,  1,  8, 17],\n",
      "        [ 5,  1, 12, 13, 15],\n",
      "        [ 1,  3, 16, 11, 17],\n",
      "        [15, 18, 18, 12,  7],\n",
      "        [18, 14,  9, 19, 14],\n",
      "        [15,  5, 12,  3,  8],\n",
      "        [15,  2, 14,  5, 18],\n",
      "        [11, 15, 16, 17,  1],\n",
      "        [13, 16,  6,  9,  4],\n",
      "        [ 8,  1,  5, 15, 10],\n",
      "        [18, 15, 12, 18,  4],\n",
      "        [14,  3, 12, 10,  7],\n",
      "        [13,  9, 18,  5, 12],\n",
      "        [10, 15,  1,  5, 15],\n",
      "        [ 6, 16,  7,  4,  1]])\n",
      "tensor([[ 9,  9,  7,  3,  4],\n",
      "        [10, 10,  6,  5,  3],\n",
      "        [11, 16, 16, 13,  2],\n",
      "        [ 6,  3, 11, 19, 13],\n",
      "        [ 9, 10,  9,  8,  2],\n",
      "        [ 5,  5,  1,  8, 17],\n",
      "        [ 6, 16,  9, 10,  6],\n",
      "        [ 3,  9, 12, 17,  7],\n",
      "        [ 5, 17, 13,  3, 15],\n",
      "        [ 7, 13, 14, 15, 18],\n",
      "        [12,  7, 12,  7, 13],\n",
      "        [19,  7,  5,  5, 19],\n",
      "        [ 6, 16, 15,  4, 13],\n",
      "        [ 2, 15, 15, 16, 17],\n",
      "        [ 9,  6, 13,  8,  2],\n",
      "        [ 2, 12,  8, 18, 10]])\n",
      "tensor([[19, 16, 17,  2, 10],\n",
      "        [19,  6, 18,  7, 16],\n",
      "        [19, 19,  7,  1,  3],\n",
      "        [11,  6, 15, 18,  3],\n",
      "        [17, 19, 11,  7,  4],\n",
      "        [19,  1, 18, 13,  3],\n",
      "        [10, 14, 18, 16,  7],\n",
      "        [ 8,  4, 16, 15, 15],\n",
      "        [17, 14,  3,  6, 12],\n",
      "        [ 5, 18, 11, 15,  3],\n",
      "        [ 1,  7,  2,  3,  7],\n",
      "        [19,  4, 17,  1,  7],\n",
      "        [ 1,  3,  2, 14, 14],\n",
      "        [13,  2, 11, 18,  2],\n",
      "        [11,  1,  4, 18, 13],\n",
      "        [ 4, 15,  6,  1,  7]])\n",
      "tensor([[10, 15, 14, 10,  7],\n",
      "        [13, 14, 14, 15, 11],\n",
      "        [ 8, 17,  3,  3, 17],\n",
      "        [17,  6, 11,  5, 14],\n",
      "        [15,  5, 18,  9,  4],\n",
      "        [19, 18, 10,  6, 14],\n",
      "        [ 8,  4,  4, 10,  5],\n",
      "        [13, 14,  6, 15,  7],\n",
      "        [ 4,  7,  8,  4, 14],\n",
      "        [ 5, 11,  9,  8, 15],\n",
      "        [16, 10, 19,  9,  7],\n",
      "        [15, 13,  5, 19, 16],\n",
      "        [ 9, 10,  3, 11, 13],\n",
      "        [16, 16,  4,  3,  5],\n",
      "        [14, 13, 10, 17,  8],\n",
      "        [ 1,  9, 13, 19, 18]])\n",
      "tensor([[16, 19, 12,  5,  4],\n",
      "        [10,  5,  5,  9, 15],\n",
      "        [ 1,  4, 16,  1, 14],\n",
      "        [17, 13,  5,  1,  4],\n",
      "        [ 8, 14,  2, 16,  7],\n",
      "        [12, 11, 19,  9,  7],\n",
      "        [13,  9,  7,  2,  8],\n",
      "        [14, 19, 12,  7,  1],\n",
      "        [ 5, 15,  3,  3,  2],\n",
      "        [18, 11, 14, 19, 13],\n",
      "        [17, 10, 17, 17,  7],\n",
      "        [10,  1,  2,  5, 15],\n",
      "        [ 1, 19,  9, 15,  7],\n",
      "        [ 5,  4,  7, 18, 11],\n",
      "        [ 7, 13, 14,  9,  3],\n",
      "        [ 5,  5,  3, 10, 15]])\n",
      "tensor([[ 6, 13, 15, 13, 11],\n",
      "        [17,  3,  9, 15, 15],\n",
      "        [14, 12,  8,  2, 18],\n",
      "        [10, 14, 17,  7, 15],\n",
      "        [ 2, 14, 18, 10, 15],\n",
      "        [ 5,  2,  7,  1,  3],\n",
      "        [15,  3,  9, 16, 19],\n",
      "        [ 5, 16, 17,  9, 15],\n",
      "        [15, 15, 16,  3, 11],\n",
      "        [ 7, 13,  3, 19, 16],\n",
      "        [14, 15, 11, 12,  4],\n",
      "        [15, 12, 13,  1,  2],\n",
      "        [ 7,  7, 19,  4,  1],\n",
      "        [15, 12,  9,  8,  4],\n",
      "        [19, 11, 17,  5, 16],\n",
      "        [14, 13, 17,  2, 15]])\n",
      "tensor([[ 3, 13, 19,  9,  8],\n",
      "        [ 7, 17,  7,  6,  4],\n",
      "        [ 5,  9, 14,  5, 14],\n",
      "        [ 3, 10, 13, 12,  6],\n",
      "        [ 7, 19,  5,  8,  2],\n",
      "        [14,  7, 13, 14, 18],\n",
      "        [ 3,  3, 18, 11,  7],\n",
      "        [12,  7,  4, 19,  2],\n",
      "        [18, 16,  1,  3, 16],\n",
      "        [10,  6, 11, 15,  2],\n",
      "        [18,  6,  5, 14, 15],\n",
      "        [ 2,  2, 16,  3, 11],\n",
      "        [ 6, 10, 13,  9,  1],\n",
      "        [ 9, 10,  5, 16,  3],\n",
      "        [19, 17, 15,  5, 12],\n",
      "        [ 6, 19, 12,  5,  1]])\n",
      "tensor([[15, 12, 10,  7, 13],\n",
      "        [10, 10, 18, 16, 16],\n",
      "        [ 9, 11, 17, 15, 14],\n",
      "        [13, 19,  3,  2,  2],\n",
      "        [15,  9,  3, 19, 13],\n",
      "        [ 7,  1,  2, 16,  1],\n",
      "        [18,  9, 12,  7,  7],\n",
      "        [10,  2, 19,  9, 15],\n",
      "        [ 8, 13,  8,  3,  7],\n",
      "        [ 9, 14,  5, 19,  8],\n",
      "        [ 5, 12, 13, 10, 17],\n",
      "        [11,  8,  9,  8, 18],\n",
      "        [12,  9, 11, 19,  2],\n",
      "        [10, 19,  2,  9, 18],\n",
      "        [15, 18, 18,  1,  4],\n",
      "        [18, 19, 15,  9,  9]])\n"
     ]
    },
    {
     "name": "stdout",
     "output_type": "stream",
     "text": [
      "tensor([[18, 15, 15,  9,  2],\n",
      "        [14, 14, 19,  4, 15],\n",
      "        [10, 11,  6, 12,  7],\n",
      "        [18, 18, 15, 11, 19],\n",
      "        [14,  7, 14,  3, 18],\n",
      "        [15, 18, 15,  3, 12],\n",
      "        [ 8,  3, 15, 10,  8],\n",
      "        [16, 13,  1, 19, 18],\n",
      "        [15,  2, 12, 12, 15],\n",
      "        [14,  9,  7, 17,  1],\n",
      "        [10,  8, 15, 19,  2],\n",
      "        [ 5, 14, 11, 13, 11],\n",
      "        [15, 19,  8,  9, 18],\n",
      "        [ 4,  8, 13,  7, 12],\n",
      "        [12,  7,  4,  7, 18],\n",
      "        [ 4, 16,  7, 12, 14]])\n",
      "tensor([[ 2, 11,  8, 15, 15],\n",
      "        [11,  9,  5, 16, 14],\n",
      "        [14, 10, 10, 13,  8],\n",
      "        [18,  4, 12,  4,  3],\n",
      "        [13, 14,  1,  9,  1],\n",
      "        [19,  4,  2,  9,  1],\n",
      "        [16, 19, 11, 12,  8],\n",
      "        [ 4,  4, 17,  4,  9],\n",
      "        [16, 17, 15,  4, 11],\n",
      "        [15, 12, 15, 10, 17],\n",
      "        [ 1,  3,  4, 19,  4],\n",
      "        [15,  8, 14, 18,  6],\n",
      "        [ 5, 18, 18, 10, 18],\n",
      "        [ 8,  5, 12,  1, 16],\n",
      "        [ 9,  5,  6,  3,  4],\n",
      "        [ 4, 16,  2, 14, 14]])\n",
      "tensor([[14, 17,  4, 16,  1],\n",
      "        [ 2, 15,  2,  9, 12],\n",
      "        [ 6, 19,  1, 18,  3],\n",
      "        [14,  6,  3, 10, 14],\n",
      "        [ 2, 10,  6,  8, 10],\n",
      "        [ 2,  2, 12,  6, 14],\n",
      "        [ 9,  9, 12,  1, 17],\n",
      "        [10, 13,  9, 14,  3],\n",
      "        [ 2,  8, 12, 15, 10],\n",
      "        [11,  7, 11,  4, 11],\n",
      "        [ 1, 17,  9,  2,  7],\n",
      "        [ 9, 10, 14, 15,  7],\n",
      "        [ 8,  3,  2, 15, 17],\n",
      "        [ 7, 11, 13, 13, 13],\n",
      "        [18,  9, 11,  7, 10],\n",
      "        [17,  1, 19, 16,  6]])\n",
      "tensor([[ 4, 15,  2, 17,  3],\n",
      "        [15,  2,  2,  5, 11],\n",
      "        [17, 15, 14, 19, 15],\n",
      "        [14,  2,  4,  7,  7],\n",
      "        [16, 12,  4, 15, 13],\n",
      "        [13,  5, 15,  6, 18],\n",
      "        [11,  3, 13, 10,  6],\n",
      "        [15, 15, 15,  4, 16],\n",
      "        [16, 14, 10,  2, 17],\n",
      "        [13,  2, 10, 19,  5],\n",
      "        [19, 12,  1,  7, 10],\n",
      "        [ 8, 18,  4, 11, 10],\n",
      "        [ 9, 17, 10, 15, 18],\n",
      "        [17,  1, 11,  7,  6],\n",
      "        [11, 18, 19,  9, 15],\n",
      "        [ 3,  1,  7,  8,  5]])\n",
      "tensor([[10,  9,  3,  2,  5],\n",
      "        [10, 18, 17,  9, 17],\n",
      "        [ 4, 15, 13,  5, 11],\n",
      "        [19, 17,  6, 15, 19],\n",
      "        [ 4,  2, 17,  8,  7],\n",
      "        [ 2, 19, 13, 10, 11],\n",
      "        [16,  7, 17, 17, 12],\n",
      "        [ 1, 16, 12, 16, 15],\n",
      "        [15, 10, 11,  9,  9],\n",
      "        [12, 15,  9, 15,  8],\n",
      "        [13,  6, 12, 14,  9],\n",
      "        [ 1,  4,  1,  4,  6],\n",
      "        [10,  6, 15, 15,  2],\n",
      "        [11, 15, 15,  6, 15],\n",
      "        [ 8, 11, 12,  8, 10],\n",
      "        [15,  8, 16,  2, 11]])\n",
      "tensor([[15,  4, 17,  4, 13],\n",
      "        [ 5, 11,  4,  4,  3],\n",
      "        [16, 11,  3, 18, 15],\n",
      "        [ 8,  4, 12, 14,  6],\n",
      "        [ 8, 15,  9,  1, 12],\n",
      "        [ 5,  7, 17, 12, 10],\n",
      "        [14,  1, 15, 12,  3],\n",
      "        [ 5,  4, 14,  7,  4],\n",
      "        [12, 16, 17,  6,  5],\n",
      "        [19, 10,  6,  4,  4],\n",
      "        [18, 19, 14, 12, 15],\n",
      "        [ 6,  8,  8,  6,  8],\n",
      "        [ 5, 14,  4, 11, 13],\n",
      "        [13, 15,  9,  2, 15],\n",
      "        [ 9,  5, 12,  7, 13],\n",
      "        [ 5, 15, 13,  5, 15]])\n",
      "tensor([[15, 11, 11,  9, 10],\n",
      "        [ 9, 19,  2, 15, 17],\n",
      "        [ 2,  6, 11, 16,  5],\n",
      "        [ 4,  6,  2, 10,  7],\n",
      "        [ 2,  1, 10, 15, 15],\n",
      "        [ 6, 10, 18,  8, 10],\n",
      "        [11, 15, 13,  4,  2],\n",
      "        [ 5, 15,  5, 13, 13],\n",
      "        [ 8, 16,  1, 10,  3],\n",
      "        [13, 15,  8, 10, 11],\n",
      "        [13, 16, 18, 15, 13],\n",
      "        [13, 12,  1, 13,  3],\n",
      "        [12, 10, 16, 13, 10],\n",
      "        [ 8,  1, 13,  7, 11],\n",
      "        [ 9, 13,  4, 10, 10],\n",
      "        [16, 13, 17, 15, 16]])\n",
      "tensor([[18,  6,  3,  1,  1],\n",
      "        [16, 18,  1, 18, 16],\n",
      "        [15, 14, 17,  3,  5],\n",
      "        [19, 13, 11,  6,  9],\n",
      "        [15,  4, 17,  8, 13],\n",
      "        [12,  6,  4,  2, 12],\n",
      "        [11, 17, 15, 18,  7],\n",
      "        [10,  1, 15,  7, 18],\n",
      "        [18, 10,  9, 15,  3],\n",
      "        [ 3, 10,  1,  1, 14],\n",
      "        [13, 10,  3, 14, 12],\n",
      "        [ 6,  8,  3,  8, 14],\n",
      "        [ 5, 13, 11,  2, 16],\n",
      "        [15, 17,  4,  8,  1],\n",
      "        [ 1, 15, 16, 13,  5],\n",
      "        [15,  1, 13, 14, 13]])\n",
      "tensor([[11, 12, 13,  6,  1],\n",
      "        [19, 13, 11, 15, 15],\n",
      "        [ 5, 19, 10, 19, 16],\n",
      "        [ 7, 19, 16, 10, 15],\n",
      "        [ 1, 19, 13, 13, 13],\n",
      "        [12, 13,  7, 15,  3],\n",
      "        [ 5, 18, 16, 14, 11],\n",
      "        [12, 17, 18, 10, 16],\n",
      "        [ 7,  5,  4, 17, 14],\n",
      "        [ 7,  8,  8, 17,  7],\n",
      "        [14, 16,  6, 17, 16],\n",
      "        [ 1,  5,  7, 13,  1],\n",
      "        [17,  7, 12,  2,  5],\n",
      "        [13,  6,  7, 13, 15],\n",
      "        [10, 15,  1, 19, 14],\n",
      "        [ 3, 13,  8,  2, 12]])\n",
      "tensor([[10,  1, 15,  8, 15],\n",
      "        [14, 12,  9,  2,  4],\n",
      "        [ 9,  3,  7,  1,  8],\n",
      "        [15, 15, 19,  4, 11],\n",
      "        [10,  6,  4,  8,  4],\n",
      "        [18,  4, 15, 19, 15],\n",
      "        [ 2,  2, 15, 13,  3],\n",
      "        [11, 15,  3, 15,  3],\n",
      "        [18,  9, 14,  8, 16],\n",
      "        [10, 16,  8, 19, 10],\n",
      "        [ 8,  9,  7, 15, 12],\n",
      "        [17, 11,  9, 12, 10],\n",
      "        [15,  9, 12, 13,  8],\n",
      "        [16, 17,  4, 15,  9],\n",
      "        [ 9,  2,  4,  6,  1],\n",
      "        [10, 17,  5, 14, 15]])\n",
      "tensor([[10,  8, 11, 18,  2],\n",
      "        [ 9,  2, 15,  7, 18],\n",
      "        [15, 13,  6,  4,  5],\n",
      "        [15,  3, 17, 17, 15],\n",
      "        [ 7, 17,  6,  4,  3],\n",
      "        [12,  6,  4,  9, 18],\n",
      "        [14,  4, 19, 14,  1],\n",
      "        [ 8, 15,  4, 14, 17],\n",
      "        [ 4,  5, 15,  9, 18],\n",
      "        [17,  9, 11,  4, 15],\n",
      "        [17, 15, 16, 11,  9],\n",
      "        [ 5,  5,  3, 15, 12],\n",
      "        [ 9,  4,  4,  9,  5],\n",
      "        [15, 12,  8, 13,  7],\n",
      "        [10, 17,  2, 15, 15],\n",
      "        [11, 14, 17, 16, 15]])\n",
      "tensor([[15, 13, 15,  1,  5],\n",
      "        [ 3,  2, 16,  4, 10],\n",
      "        [ 3, 12, 16,  4, 13],\n",
      "        [ 5,  8, 10, 15,  4],\n",
      "        [ 4, 14, 12, 12, 12],\n",
      "        [ 2,  5,  8,  9,  1],\n",
      "        [16, 18, 10, 17, 16],\n",
      "        [ 5, 15, 13,  5, 17],\n",
      "        [ 7, 13, 11,  9, 14],\n",
      "        [ 7, 15, 16, 10,  4],\n",
      "        [ 1,  9, 11, 13, 12],\n",
      "        [12, 16,  4, 17, 15],\n",
      "        [10,  3, 16, 16, 19],\n",
      "        [16,  4, 15,  9, 11],\n",
      "        [10,  9, 15, 16,  7],\n",
      "        [ 6, 13, 14, 12,  2]])\n",
      "tensor([[16,  8, 16, 13,  9],\n",
      "        [ 9, 16,  9,  7,  9],\n",
      "        [16, 15,  6, 16, 15],\n",
      "        [ 9, 12, 12, 16,  3],\n",
      "        [ 7, 15,  4,  5, 14],\n",
      "        [ 6,  9, 13, 19, 14],\n",
      "        [16,  7,  9,  1,  3],\n",
      "        [ 1, 14, 16, 15, 15],\n",
      "        [ 5, 14, 15,  7, 15],\n",
      "        [11,  9, 10,  3, 17],\n",
      "        [15,  2,  6,  2, 15],\n",
      "        [14, 14, 13,  2,  7],\n",
      "        [ 1,  9, 13,  4,  7],\n",
      "        [15, 12,  6,  8, 15],\n",
      "        [19,  1, 19, 11,  7],\n",
      "        [11, 16,  7,  4, 18]])\n",
      "tensor([[ 9, 10, 12,  6,  6],\n",
      "        [ 2,  8, 10,  7, 12],\n",
      "        [16, 13, 13,  2, 15],\n",
      "        [18, 10, 15,  5,  4],\n",
      "        [12, 16,  2,  7,  1],\n",
      "        [18,  3,  3, 15,  3],\n",
      "        [14, 19,  7,  3, 11],\n",
      "        [10, 15, 18, 10, 16],\n",
      "        [ 6, 13, 16,  3,  6],\n",
      "        [ 2, 19, 14,  6, 12],\n",
      "        [12, 19, 17,  8,  7],\n",
      "        [15,  1,  9,  7,  4],\n",
      "        [ 6,  5,  2,  4,  2],\n",
      "        [12, 12, 16, 18, 12],\n",
      "        [ 7,  1, 12, 18,  1],\n",
      "        [14, 13, 13,  9, 11]])\n",
      "tensor([[16, 14, 11,  7,  5],\n",
      "        [ 5, 16, 12, 19,  3],\n",
      "        [ 8,  4, 10, 15,  3],\n",
      "        [ 2,  9, 16, 17,  8],\n",
      "        [ 5,  6,  6, 13,  2],\n",
      "        [19,  3, 15,  5, 14],\n",
      "        [14,  8, 12,  4,  7],\n",
      "        [13,  9,  1, 17, 10],\n",
      "        [18,  8,  9,  8, 18],\n",
      "        [ 9,  2,  4,  2, 11],\n",
      "        [13,  9, 12, 13, 16],\n",
      "        [ 6, 17, 15, 16, 14],\n",
      "        [ 8, 17, 14, 11, 11],\n",
      "        [16,  6, 12, 19, 16],\n",
      "        [18,  1,  6,  6, 11],\n",
      "        [ 3,  5,  6, 10,  4]])\n",
      "tensor([[14,  2,  8,  4, 16],\n",
      "        [12, 18, 16, 17,  2],\n",
      "        [11,  5,  5,  6, 18],\n",
      "        [13, 19,  7, 18,  8],\n",
      "        [12, 13,  8,  2,  5],\n",
      "        [10,  2,  6,  7, 15],\n",
      "        [ 7,  9,  1, 17, 19],\n",
      "        [13, 14,  5, 15, 15],\n",
      "        [11, 11,  7, 12, 13],\n",
      "        [14,  1,  2,  8, 16],\n",
      "        [ 1, 17, 18,  6,  2],\n",
      "        [ 7, 15, 16, 11,  2],\n",
      "        [18,  9,  5,  7, 15],\n",
      "        [ 5, 16,  1, 13, 11],\n",
      "        [14, 14,  9,  4, 15],\n",
      "        [ 7,  6, 15, 19, 14]])\n",
      "tensor([[ 3, 15,  2, 14, 15],\n",
      "        [ 6,  7,  4, 15,  3],\n",
      "        [18,  3, 12,  6, 13],\n",
      "        [16, 16,  7,  6, 15],\n",
      "        [ 3,  3,  9,  1,  1],\n",
      "        [ 3,  8,  1, 16, 17],\n",
      "        [17,  5, 19, 15, 11],\n",
      "        [ 7, 16, 12, 18, 18],\n",
      "        [15, 15,  3, 17, 18],\n",
      "        [16, 19, 14,  6, 16],\n",
      "        [ 2, 18,  9, 13, 13],\n",
      "        [17, 12, 19,  4, 14],\n",
      "        [16, 17, 14,  8, 15],\n",
      "        [13, 12, 18,  9,  9],\n",
      "        [16,  4,  6, 12, 15],\n",
      "        [15,  4, 18,  1, 15]])\n",
      "tensor([[15, 18,  9, 14, 15],\n",
      "        [ 4, 15, 14,  5, 10],\n",
      "        [12,  1,  1,  7, 15],\n",
      "        [18, 12,  4, 13,  6],\n",
      "        [12,  9, 14, 11, 14],\n",
      "        [12,  6,  9, 11, 19],\n",
      "        [11,  7,  3, 15,  1],\n",
      "        [13,  6, 17, 18, 17],\n",
      "        [18,  2,  5,  1, 13],\n",
      "        [ 7, 10,  8,  5,  6],\n",
      "        [ 4,  1,  3,  3,  6],\n",
      "        [ 8, 19, 12, 13, 15],\n",
      "        [ 6,  5, 15, 18, 15],\n",
      "        [ 6,  2, 14, 15, 18],\n",
      "        [ 6, 10,  3,  3, 14],\n",
      "        [ 6, 17,  5,  6, 14]])\n",
      "tensor([[ 3,  1, 10, 17,  3],\n",
      "        [16,  9, 11, 10, 11],\n",
      "        [ 9, 12, 16,  7,  5],\n",
      "        [14, 19, 11,  5,  7],\n",
      "        [ 6, 13,  2, 15, 12],\n",
      "        [18, 17, 18,  6, 10],\n",
      "        [ 9,  9, 15,  1, 18],\n",
      "        [ 4,  6, 13, 15, 18],\n",
      "        [10, 10, 14, 19, 13],\n",
      "        [15,  9, 17,  3, 13],\n",
      "        [13, 19,  4,  8, 12],\n",
      "        [12,  2,  4, 18, 16],\n",
      "        [10, 10,  4, 17,  4],\n",
      "        [16,  9, 16, 13,  5],\n",
      "        [15,  2, 18, 12, 13],\n",
      "        [14, 11, 15,  3, 12]])\n",
      "tensor([[15, 17, 12, 10, 11],\n",
      "        [ 8,  9, 17, 15, 15],\n",
      "        [17,  3,  7,  9, 17],\n",
      "        [19, 14, 16,  6, 13],\n",
      "        [11,  5,  8,  6, 19],\n",
      "        [ 1,  3,  3, 11,  1],\n",
      "        [15, 19,  2, 15, 15],\n",
      "        [ 6, 17, 19, 16,  3],\n",
      "        [15,  8,  9, 13,  8],\n",
      "        [11,  7, 10, 18, 15],\n",
      "        [13,  1,  4,  6,  6],\n",
      "        [ 2,  5, 17,  1,  4],\n",
      "        [15,  8, 17, 16, 15],\n",
      "        [ 5, 12,  7,  4,  6],\n",
      "        [ 6, 12,  7,  8,  2],\n",
      "        [ 8,  8, 19, 14, 19]])\n"
     ]
    },
    {
     "name": "stdout",
     "output_type": "stream",
     "text": [
      "tensor([[18,  2,  7, 12, 15],\n",
      "        [12, 12, 15, 18, 15],\n",
      "        [ 2, 18,  2,  1,  4],\n",
      "        [18, 18, 17,  3,  3],\n",
      "        [13,  4,  4,  8,  3],\n",
      "        [13,  1,  3,  6, 17],\n",
      "        [ 1, 13, 19,  8,  5],\n",
      "        [ 9,  1, 19, 15,  7],\n",
      "        [ 5,  2, 16, 18, 11],\n",
      "        [15, 10, 14, 11,  6],\n",
      "        [ 2,  6, 10,  4,  1],\n",
      "        [12,  3, 12, 15,  1],\n",
      "        [ 9, 16, 11,  5,  2],\n",
      "        [18, 13,  9, 18, 19],\n",
      "        [ 1,  8, 13,  3,  7],\n",
      "        [13, 15,  1, 18, 19]])\n",
      "tensor([[ 3,  6,  3,  2, 16],\n",
      "        [11, 12, 11,  5,  1],\n",
      "        [15,  5, 15, 15,  1],\n",
      "        [12,  9,  5, 18,  8],\n",
      "        [ 3,  6,  7, 15, 18],\n",
      "        [13, 15,  8, 15,  3],\n",
      "        [ 4,  2, 17, 16,  2],\n",
      "        [ 6, 14,  7, 16, 18],\n",
      "        [15,  6, 11, 15, 15],\n",
      "        [15, 10,  4, 17, 13],\n",
      "        [16,  1, 14,  5, 15],\n",
      "        [ 7, 15, 16,  1,  1],\n",
      "        [16, 14, 13,  4,  4],\n",
      "        [ 5, 10, 10,  1, 19],\n",
      "        [16, 19,  8, 11, 11],\n",
      "        [ 2, 15, 19,  3,  4]])\n",
      "tensor([[13, 15,  1, 10,  2],\n",
      "        [16,  1,  3, 13, 15],\n",
      "        [16,  5, 14, 15,  7],\n",
      "        [ 8, 15, 19,  1,  2],\n",
      "        [13,  7, 13, 15, 10],\n",
      "        [ 8, 11,  5, 15, 16],\n",
      "        [ 6, 15, 15, 15, 18],\n",
      "        [15, 16, 18,  8,  6],\n",
      "        [ 8,  3, 15,  9, 15],\n",
      "        [12,  1, 12, 13, 11],\n",
      "        [15,  7, 17, 18, 14],\n",
      "        [14,  8, 16,  1, 19],\n",
      "        [ 7, 15,  8, 11, 17],\n",
      "        [ 1, 12, 18, 13, 10],\n",
      "        [18,  3,  4,  7, 17],\n",
      "        [15, 14,  3,  5, 15]])\n",
      "tensor([[13, 15, 13,  5, 11],\n",
      "        [10,  8, 16,  9, 10],\n",
      "        [11, 17, 19, 13,  6],\n",
      "        [ 2,  1,  4, 12,  8],\n",
      "        [15, 13,  3,  5, 14],\n",
      "        [15, 17, 15,  9, 15],\n",
      "        [ 1, 13,  6,  7,  2],\n",
      "        [13, 18, 18, 16, 12],\n",
      "        [13, 18, 18,  1, 16],\n",
      "        [17,  3,  9, 10,  9],\n",
      "        [ 9,  3, 14,  9, 14],\n",
      "        [ 2,  3,  8,  7,  3],\n",
      "        [18,  7, 11,  7, 15],\n",
      "        [15, 15, 13, 18,  9],\n",
      "        [14, 15,  4,  9,  3],\n",
      "        [ 9,  3,  8, 13, 10]])\n",
      "tensor([[19,  4, 15,  5, 10],\n",
      "        [ 7,  4, 10, 18, 15],\n",
      "        [14, 16, 18, 12,  8],\n",
      "        [19, 12,  3,  1,  3],\n",
      "        [14,  1,  4,  6,  5],\n",
      "        [10, 10,  9, 10, 10],\n",
      "        [13, 16, 15, 18, 15],\n",
      "        [17,  5, 16, 18, 19],\n",
      "        [19,  4, 10, 16, 16],\n",
      "        [ 4, 19, 18, 13, 16],\n",
      "        [ 2, 18,  4, 12, 14],\n",
      "        [ 4,  2, 14, 15,  7],\n",
      "        [ 4,  4,  5, 17, 10],\n",
      "        [ 3, 11, 13, 11, 14],\n",
      "        [14,  9, 13,  3,  2],\n",
      "        [ 2, 11, 15, 19,  6]])\n",
      "tensor([[ 8, 17,  4, 19, 14],\n",
      "        [ 4, 14, 12,  6,  9],\n",
      "        [ 9,  1, 13,  3, 10],\n",
      "        [13,  1, 12, 15, 17],\n",
      "        [10,  2,  9,  6, 19],\n",
      "        [11, 18,  9, 14, 15],\n",
      "        [ 2, 15, 17,  6, 17],\n",
      "        [ 4, 14, 13, 15,  3],\n",
      "        [ 5, 11,  1, 10, 13],\n",
      "        [11,  3,  5, 16, 10],\n",
      "        [12, 19,  1, 15, 10],\n",
      "        [15,  8, 12, 18,  4],\n",
      "        [15, 13,  1, 13, 17],\n",
      "        [10,  3, 15,  7,  1],\n",
      "        [16,  3, 16, 10, 11],\n",
      "        [ 2, 15,  1,  8,  3]])\n",
      "tensor([[15, 14,  1,  3,  7],\n",
      "        [ 5,  9, 17, 18, 11],\n",
      "        [ 6,  1,  7, 15,  7],\n",
      "        [ 9, 18,  2, 17, 13],\n",
      "        [15,  7, 19, 10, 10],\n",
      "        [10,  8, 12, 11, 15],\n",
      "        [11,  2,  9, 12, 11],\n",
      "        [ 6, 10, 17, 18,  3],\n",
      "        [ 6, 13,  9, 11,  5],\n",
      "        [13, 19, 14, 14, 15],\n",
      "        [ 3,  5, 14,  8, 14],\n",
      "        [ 8, 18, 18, 12,  9],\n",
      "        [ 6,  8, 17, 14,  1],\n",
      "        [ 3,  2, 18, 12, 11],\n",
      "        [ 9, 15, 17, 19,  9],\n",
      "        [ 8, 16, 17, 10,  6]])\n",
      "tensor([[ 7, 15,  1, 16, 13],\n",
      "        [ 2,  5,  7, 19,  4],\n",
      "        [14, 10,  2,  3,  3],\n",
      "        [14,  3, 13,  7, 13],\n",
      "        [ 1,  5,  3, 14,  4],\n",
      "        [11,  6,  5, 15,  3],\n",
      "        [ 9,  6,  4,  2, 11],\n",
      "        [ 7, 10,  3, 17, 14],\n",
      "        [16,  3, 15, 14,  3],\n",
      "        [ 2,  6,  6, 18, 18],\n",
      "        [10, 11,  3,  4, 18],\n",
      "        [18,  3, 16, 15, 16],\n",
      "        [16, 14, 12,  4, 17],\n",
      "        [13,  7,  7,  7, 18],\n",
      "        [ 9,  6, 15, 15,  7],\n",
      "        [ 9, 12, 17,  5, 11]])\n",
      "tensor([[14,  4, 14, 11, 13],\n",
      "        [ 2,  8,  3, 17, 11],\n",
      "        [17, 14,  6,  3,  5],\n",
      "        [16, 18, 15, 11,  7],\n",
      "        [15,  8,  1,  5,  6],\n",
      "        [ 2,  1,  9, 15, 15],\n",
      "        [13, 15, 12,  7,  4],\n",
      "        [18, 18,  8, 14,  4],\n",
      "        [19, 13, 12, 17, 11],\n",
      "        [ 9,  8,  7,  9, 12],\n",
      "        [ 8, 15, 19,  3, 17],\n",
      "        [12, 17,  2,  8,  1],\n",
      "        [10,  7, 10,  9, 11],\n",
      "        [12,  9, 15, 11,  5],\n",
      "        [11,  5, 14,  5, 16],\n",
      "        [ 3, 14,  1, 17,  4]])\n",
      "tensor([[ 2, 16,  5,  6, 15],\n",
      "        [13, 17,  4,  2, 14],\n",
      "        [14, 18, 15, 17,  3],\n",
      "        [ 3, 15,  1, 19, 13],\n",
      "        [15, 18,  9,  7,  2],\n",
      "        [ 9,  3,  2,  8,  3],\n",
      "        [14, 14,  2, 15, 15],\n",
      "        [ 2,  9,  6, 10, 11],\n",
      "        [ 4,  6,  2,  8, 15],\n",
      "        [ 3,  6, 14,  1,  8],\n",
      "        [15, 18, 12,  1,  9],\n",
      "        [ 7, 15,  2,  3, 15],\n",
      "        [ 1,  2, 14, 10, 13],\n",
      "        [17,  8, 15,  9, 17],\n",
      "        [ 8, 17,  5, 15,  5],\n",
      "        [ 7, 15, 11,  3, 13]])\n",
      "tensor([[14,  6,  4,  8, 12],\n",
      "        [15, 11,  2,  1,  4],\n",
      "        [18, 12, 15,  5, 15],\n",
      "        [ 4, 15, 15, 12, 12],\n",
      "        [18,  5,  8,  4, 14],\n",
      "        [ 3,  3,  4,  9,  9],\n",
      "        [ 9, 17, 14, 15, 19],\n",
      "        [ 8, 12,  4,  1,  9],\n",
      "        [ 9, 12,  9,  4,  5],\n",
      "        [ 7,  4, 16, 11, 17],\n",
      "        [ 7,  4,  5,  1,  1],\n",
      "        [14,  3,  4,  6, 10],\n",
      "        [12,  1, 14,  7, 15],\n",
      "        [ 1, 17,  3, 19,  6],\n",
      "        [ 7,  3, 16, 19,  3],\n",
      "        [19, 13,  4,  8,  8]])\n",
      "tensor([[11, 12,  8,  2, 12],\n",
      "        [ 1, 15, 18,  2,  7],\n",
      "        [11, 13, 18, 14, 16],\n",
      "        [ 3, 15, 15, 12,  2],\n",
      "        [14,  9, 19, 12, 18],\n",
      "        [ 1,  7, 18,  3,  6],\n",
      "        [ 1,  3, 12,  5, 17],\n",
      "        [ 8, 11,  2,  8, 16],\n",
      "        [ 5, 12, 15,  7,  3],\n",
      "        [15, 10, 13,  1,  8],\n",
      "        [12,  7,  2, 16, 15],\n",
      "        [17,  9,  1,  8, 10],\n",
      "        [ 2, 10, 13, 14, 12],\n",
      "        [ 8,  7,  3, 18,  9],\n",
      "        [ 4, 17, 10, 10, 17],\n",
      "        [ 8, 10, 13,  7,  3]])\n",
      "tensor([[ 6,  9, 10, 13, 11],\n",
      "        [ 4,  5,  9,  2,  3],\n",
      "        [ 3,  6, 11,  3, 16],\n",
      "        [ 9,  1, 16, 13,  5],\n",
      "        [ 7, 19,  5,  2, 12],\n",
      "        [ 4, 15, 18, 15, 15],\n",
      "        [ 1, 11, 15, 12,  3],\n",
      "        [17, 10, 10,  9, 16],\n",
      "        [ 8, 13, 18,  9, 10],\n",
      "        [15,  9, 17, 17,  6],\n",
      "        [16, 14,  3,  6, 12],\n",
      "        [15, 19,  7, 15, 16],\n",
      "        [13, 11, 17, 12, 19],\n",
      "        [15,  3,  8,  3, 14],\n",
      "        [13,  7,  3,  1,  9],\n",
      "        [ 6, 18, 10,  4, 14]])\n",
      "tensor([[ 5,  5, 17, 16,  4],\n",
      "        [18, 11,  5, 11,  8],\n",
      "        [16, 13, 14, 15,  1],\n",
      "        [13, 13, 10,  6, 14],\n",
      "        [ 1, 15,  6,  2, 12],\n",
      "        [ 8, 13, 11, 14,  4],\n",
      "        [ 6, 11,  1, 19,  6],\n",
      "        [ 3,  9,  7, 15,  7],\n",
      "        [10,  1,  1,  8, 10],\n",
      "        [ 3,  3, 19, 16, 11],\n",
      "        [ 3,  7,  7, 10, 11],\n",
      "        [ 4, 15,  1,  3,  4],\n",
      "        [ 5,  3, 14,  7,  1],\n",
      "        [ 8,  3, 10,  6,  9],\n",
      "        [18,  1,  9, 15, 15],\n",
      "        [19,  2,  9,  4,  7]])\n",
      "tensor([[ 1, 15,  8,  9,  4],\n",
      "        [ 5, 17,  8,  6,  5],\n",
      "        [ 6,  6, 17, 16,  3],\n",
      "        [ 7, 15,  4, 16, 15],\n",
      "        [ 9, 11, 15,  4,  4],\n",
      "        [12, 16,  6,  5,  1],\n",
      "        [ 6, 14, 13, 14, 12],\n",
      "        [18, 11,  7, 18, 14],\n",
      "        [ 3, 19, 15, 12,  2],\n",
      "        [15,  9, 19, 18,  7],\n",
      "        [ 7,  9,  9,  9,  9],\n",
      "        [19,  4, 13,  7,  6],\n",
      "        [ 3, 10, 17,  2, 17],\n",
      "        [ 8, 19,  4, 19,  2],\n",
      "        [12,  3, 17, 12, 15],\n",
      "        [14,  9,  9,  1, 18]])\n",
      "tensor([[ 1, 13,  6, 15, 14],\n",
      "        [ 3, 15,  9,  2,  6],\n",
      "        [ 7, 11,  2,  1, 14],\n",
      "        [13, 11,  9, 14, 12],\n",
      "        [ 7,  6, 10,  3,  9],\n",
      "        [ 2, 15, 10, 18, 10],\n",
      "        [ 5,  9,  2, 15,  5],\n",
      "        [17, 18,  9, 15,  7],\n",
      "        [ 6, 12, 10, 11,  6],\n",
      "        [ 3,  1, 15, 18, 19],\n",
      "        [16,  1, 19, 14,  1],\n",
      "        [13, 17, 15,  4,  2],\n",
      "        [12,  8, 16,  1,  9],\n",
      "        [ 6,  6, 15,  5, 13],\n",
      "        [ 1, 15,  8,  9, 18],\n",
      "        [16,  9, 14,  6, 12]])\n",
      "tensor([[14, 17, 10, 12,  5],\n",
      "        [12,  6,  3, 18,  2],\n",
      "        [16, 16, 17, 19, 10],\n",
      "        [ 4, 11, 16,  2, 15],\n",
      "        [18,  6,  3,  8,  1],\n",
      "        [11, 10, 13,  2, 16],\n",
      "        [17,  3, 18,  1, 14],\n",
      "        [ 5,  9,  2, 16,  4],\n",
      "        [15, 15, 12,  7,  8],\n",
      "        [ 4, 12, 19, 11, 14],\n",
      "        [12,  5, 17, 17,  7],\n",
      "        [19,  8, 12, 18,  5],\n",
      "        [ 4, 18,  4, 15, 18],\n",
      "        [15,  4, 15,  7,  8],\n",
      "        [15,  2, 18,  3,  9],\n",
      "        [18, 15, 13, 18,  9]])\n",
      "tensor([[ 2, 15,  6, 14, 18],\n",
      "        [19,  2,  2, 15, 14],\n",
      "        [15, 12,  7,  8,  7],\n",
      "        [ 1,  4,  2, 10,  9],\n",
      "        [ 6, 10, 19, 17, 17],\n",
      "        [ 6, 18,  9, 19, 10],\n",
      "        [ 8,  5,  7,  4, 15],\n",
      "        [ 4,  2,  1,  4, 14],\n",
      "        [11,  2, 15, 10, 15],\n",
      "        [12,  5, 15, 11,  4],\n",
      "        [ 3, 19,  9, 11, 18],\n",
      "        [12,  9,  1, 12, 12],\n",
      "        [ 5,  8,  3, 17,  5],\n",
      "        [ 8, 10,  2,  8,  6],\n",
      "        [19, 18,  1, 10,  3],\n",
      "        [ 9,  5, 17, 11,  5]])\n",
      "tensor([[15,  4,  9, 14,  6],\n",
      "        [ 1, 11, 15,  6, 13],\n",
      "        [19, 10,  2,  7, 11],\n",
      "        [10,  1,  1, 19,  4],\n",
      "        [ 8,  4, 15, 14, 14],\n",
      "        [10, 11, 11, 16,  4],\n",
      "        [12,  5,  8, 16, 17],\n",
      "        [ 3,  3,  2,  2, 14],\n",
      "        [ 2, 18, 15, 13,  5],\n",
      "        [17,  5, 15, 19,  3],\n",
      "        [19, 11, 14, 19,  3],\n",
      "        [ 5,  6,  7, 17,  2],\n",
      "        [ 3, 12,  7, 19, 16],\n",
      "        [ 3,  6,  3, 12, 12],\n",
      "        [ 5,  4, 11,  8, 14],\n",
      "        [ 1, 15, 12,  1,  5]])\n"
     ]
    },
    {
     "name": "stdout",
     "output_type": "stream",
     "text": [
      "tensor([[ 4,  8, 15, 10,  6],\n",
      "        [ 9,  7,  5, 14, 10],\n",
      "        [ 1, 16,  1, 19,  7],\n",
      "        [ 5, 14, 19, 13,  8],\n",
      "        [ 5, 10, 14, 18,  6],\n",
      "        [ 5, 13,  3,  4, 17],\n",
      "        [14, 14, 12, 14,  5],\n",
      "        [14,  1,  1, 11,  2],\n",
      "        [ 3, 17,  5, 14, 17],\n",
      "        [19, 17,  7, 19,  4],\n",
      "        [ 9,  3,  4,  1,  6],\n",
      "        [13, 16,  1,  1, 18],\n",
      "        [ 7,  8,  6,  2,  4],\n",
      "        [12,  1,  1,  8, 15],\n",
      "        [10,  7, 18,  9, 15],\n",
      "        [15, 19,  4, 10, 16]])\n",
      "tensor([[15,  6, 14, 11,  8],\n",
      "        [17, 18, 19,  3, 15],\n",
      "        [ 2, 15, 12, 10, 15],\n",
      "        [17,  7,  8, 15, 18],\n",
      "        [ 7, 10,  1, 15, 10],\n",
      "        [17,  4,  1, 12, 15],\n",
      "        [ 9,  4, 18, 15, 11],\n",
      "        [ 8, 15,  9,  4, 12],\n",
      "        [15,  7, 12, 16,  5],\n",
      "        [19, 19, 13,  4, 13],\n",
      "        [ 9, 15, 11, 18,  3],\n",
      "        [14, 14, 13,  1, 14],\n",
      "        [ 5, 11,  5, 16, 15],\n",
      "        [ 8,  2, 18, 16, 15],\n",
      "        [15, 15, 12, 18,  2],\n",
      "        [ 7, 12, 11, 18, 15]])\n",
      "tensor([[ 2,  8, 18,  7,  5],\n",
      "        [14, 10, 19, 16,  6],\n",
      "        [ 3,  9, 15,  6,  8]])\n"
     ]
    }
   ],
   "source": [
    "for data in train_loader:\n",
    "    print(data['targets'])"
   ]
  },
  {
   "cell_type": "markdown",
   "metadata": {},
   "source": [
    "Данные разбиты на батчи по BATCH_SIZE каждый и закодированы Label Encoder"
   ]
  },
  {
   "cell_type": "markdown",
   "metadata": {},
   "source": [
    "# Создадим модель и оптимизатор\n",
    "\n",
    "Загрузим нашу модель. Мы будем использовать Adam Optimizer с learning rate 3e-4. Также определим функцию для early stopping в случае начала переобучения нашей модели или выхода на плато."
   ]
  },
  {
   "cell_type": "code",
   "execution_count": 14,
   "metadata": {
    "id": "lMy2k-T8ibzc"
   },
   "outputs": [],
   "source": [
    "# Load the models\n",
    "model = MyCaptchaModel(num_chars=len(lbl_enc.classes_))\n",
    "model.to(DEVICE)\n",
    "\n",
    "# Create optimizer and callbacks\n",
    "optimizer = torch.optim.Adam(model.parameters(), lr=3e-4)\n",
    "scheduler = torch.optim.lr_scheduler.ReduceLROnPlateau(\n",
    "    optimizer, factor=0.8, patience=5, verbose=True\n",
    ")"
   ]
  },
  {
   "cell_type": "code",
   "execution_count": 15,
   "metadata": {},
   "outputs": [],
   "source": [
    "def early_stopping(patience, count, prev_loss, current_loss, threshold):\n",
    "    if abs(prev_loss - current_loss) < threshold and count >= patience:\n",
    "        return \"stop\" \n",
    "    elif abs(prev_loss - current_loss) < threshold:\n",
    "        return \"count\"\n",
    "    else:\n",
    "        return False"
   ]
  },
  {
   "cell_type": "markdown",
   "metadata": {},
   "source": [
    "## Decoding the Predictions\n",
    "\n",
    "Определим функцию, которая будет расшифровывать результаты прогноза, используя наш Label Encoder. Выход модели состоит из последовательности вероятности наличия того или иного символа на сегменте изображения. Если модель не уверена в выборе, она прогнозирует 0 и мы заполняем ее прогноз символом  '-'."
   ]
  },
  {
   "cell_type": "code",
   "execution_count": 16,
   "metadata": {
    "id": "5aP0UoKnEnBZ"
   },
   "outputs": [],
   "source": [
    "def decode_predictions(preds, encoder):\n",
    "    preds = preds.permute(1, 0, 2)\n",
    "    preds = torch.softmax(preds, 2)\n",
    "    preds = torch.argmax(preds, 2)\n",
    "    preds = preds.detach().cpu().numpy()\n",
    "    cap_preds = []\n",
    "    for j in range(preds.shape[0]):\n",
    "        temp = []\n",
    "        for k in preds[j,:]:\n",
    "            k = k - 1\n",
    "            if k == -1:\n",
    "                temp.append(\"-\")\n",
    "            else:\n",
    "                temp.append(encoder.inverse_transform([k])[0])\n",
    "        tp = \"\".join(temp)\n",
    "        cap_preds.append(tp)\n",
    "    return cap_preds"
   ]
  },
  {
   "cell_type": "markdown",
   "metadata": {},
   "source": [
    "## Запускаем обучение\n",
    "\n",
    "Запускаем обучение, вычисляя ошибку на валидации для каждой эпохи для предотвращения переобучения."
   ]
  },
  {
   "cell_type": "code",
   "execution_count": 17,
   "metadata": {
    "id": "1PzEfn8DEic9"
   },
   "outputs": [
    {
     "name": "stderr",
     "output_type": "stream",
     "text": [
      "/var/folders/46/9pmddt197tg1cz85qrsc593w0000gn/T/ipykernel_2984/1854501779.py:22: DeprecationWarning: BILINEAR is deprecated and will be removed in Pillow 10 (2023-07-01). Use Resampling.BILINEAR instead.\n",
      "  image = image.resize((self.resize[1], self.resize[0]), resample=Image.BILINEAR)\n",
      "100%|███████████████████████████████████████████████████████████████████████████████████████████████████████████████████████████████████████████████████████████████████████████████████| 7/7 [00:01<00:00,  4.37it/s]\n"
     ]
    },
    {
     "name": "stdout",
     "output_type": "stream",
     "text": [
      "Epoch: 0, train_loss: 13.3505398250017, valid_loss: 4.021968296595982\n"
     ]
    },
    {
     "name": "stderr",
     "output_type": "stream",
     "text": [
      "100%|███████████████████████████████████████████████████████████████████████████████████████████████████████████████████████████████████████████████████████████████████████████████████| 7/7 [00:01<00:00,  4.46it/s]\n"
     ]
    },
    {
     "name": "stdout",
     "output_type": "stream",
     "text": [
      "Epoch: 1, train_loss: 3.637845332505273, valid_loss: 3.30866163117545\n"
     ]
    },
    {
     "name": "stderr",
     "output_type": "stream",
     "text": [
      "100%|███████████████████████████████████████████████████████████████████████████████████████████████████████████████████████████████████████████████████████████████████████████████████| 7/7 [00:01<00:00,  4.38it/s]\n"
     ]
    },
    {
     "name": "stdout",
     "output_type": "stream",
     "text": [
      "Epoch: 2, train_loss: 3.322172805911205, valid_loss: 3.2745646068028043\n"
     ]
    },
    {
     "name": "stderr",
     "output_type": "stream",
     "text": [
      "100%|███████████████████████████████████████████████████████████████████████████████████████████████████████████████████████████████████████████████████████████████████████████████████| 7/7 [00:01<00:00,  4.37it/s]\n"
     ]
    },
    {
     "name": "stdout",
     "output_type": "stream",
     "text": [
      "Epoch: 3, train_loss: 3.283233865362699, valid_loss: 3.2684759071895053\n"
     ]
    },
    {
     "name": "stderr",
     "output_type": "stream",
     "text": [
      "100%|███████████████████████████████████████████████████████████████████████████████████████████████████████████████████████████████████████████████████████████████████████████████████| 7/7 [00:01<00:00,  4.37it/s]\n"
     ]
    },
    {
     "name": "stdout",
     "output_type": "stream",
     "text": [
      "Epoch: 4, train_loss: 3.271557147385644, valid_loss: 3.269017457962036\n"
     ]
    },
    {
     "name": "stderr",
     "output_type": "stream",
     "text": [
      "100%|███████████████████████████████████████████████████████████████████████████████████████████████████████████████████████████████████████████████████████████████████████████████████| 7/7 [00:01<00:00,  4.37it/s]\n"
     ]
    },
    {
     "name": "stdout",
     "output_type": "stream",
     "text": [
      "Epoch: 5, train_loss: 3.2692352748308027, valid_loss: 3.2701726300375804\n"
     ]
    },
    {
     "name": "stderr",
     "output_type": "stream",
     "text": [
      "100%|███████████████████████████████████████████████████████████████████████████████████████████████████████████████████████████████████████████████████████████████████████████████████| 7/7 [00:01<00:00,  4.34it/s]\n"
     ]
    },
    {
     "name": "stdout",
     "output_type": "stream",
     "text": [
      "Epoch: 6, train_loss: 3.267110058518707, valid_loss: 3.271389825003488\n"
     ]
    },
    {
     "name": "stderr",
     "output_type": "stream",
     "text": [
      "100%|███████████████████████████████████████████████████████████████████████████████████████████████████████████████████████████████████████████████████████████████████████████████████| 7/7 [00:01<00:00,  4.37it/s]\n"
     ]
    },
    {
     "name": "stdout",
     "output_type": "stream",
     "text": [
      "Epoch: 7, train_loss: 3.2664801957177336, valid_loss: 3.272540705544608\n"
     ]
    },
    {
     "name": "stderr",
     "output_type": "stream",
     "text": [
      "100%|███████████████████████████████████████████████████████████████████████████████████████████████████████████████████████████████████████████████████████████████████████████████████| 7/7 [00:01<00:00,  4.39it/s]\n"
     ]
    },
    {
     "name": "stdout",
     "output_type": "stream",
     "text": [
      "Epoch: 8, train_loss: 3.26494001951374, valid_loss: 3.27199193409511\n"
     ]
    },
    {
     "name": "stderr",
     "output_type": "stream",
     "text": [
      "100%|███████████████████████████████████████████████████████████████████████████████████████████████████████████████████████████████████████████████████████████████████████████████████| 7/7 [00:01<00:00,  4.39it/s]\n"
     ]
    },
    {
     "name": "stdout",
     "output_type": "stream",
     "text": [
      "Epoch: 9, train_loss: 3.2675783399675713, valid_loss: 3.2731621265411377\n"
     ]
    },
    {
     "name": "stderr",
     "output_type": "stream",
     "text": [
      "100%|███████████████████████████████████████████████████████████████████████████████████████████████████████████████████████████████████████████████████████████████████████████████████| 7/7 [00:01<00:00,  4.31it/s]\n"
     ]
    },
    {
     "name": "stdout",
     "output_type": "stream",
     "text": [
      "Epoch: 10, train_loss: 3.266389346513592, valid_loss: 3.2712245668683733\n"
     ]
    },
    {
     "name": "stderr",
     "output_type": "stream",
     "text": [
      "100%|███████████████████████████████████████████████████████████████████████████████████████████████████████████████████████████████████████████████████████████████████████████████████| 7/7 [00:01<00:00,  4.33it/s]\n"
     ]
    },
    {
     "name": "stdout",
     "output_type": "stream",
     "text": [
      "Epoch: 11, train_loss: 3.267294141112781, valid_loss: 3.2725484371185303\n"
     ]
    },
    {
     "name": "stderr",
     "output_type": "stream",
     "text": [
      "100%|███████████████████████████████████████████████████████████████████████████████████████████████████████████████████████████████████████████████████████████████████████████████████| 7/7 [00:01<00:00,  4.31it/s]\n"
     ]
    },
    {
     "name": "stdout",
     "output_type": "stream",
     "text": [
      "Epoch: 12, train_loss: 3.265685933535216, valid_loss: 3.2721243585859026\n"
     ]
    },
    {
     "name": "stderr",
     "output_type": "stream",
     "text": [
      "100%|███████████████████████████████████████████████████████████████████████████████████████████████████████████████████████████████████████████████████████████████████████████████████| 7/7 [00:01<00:00,  4.33it/s]\n"
     ]
    },
    {
     "name": "stdout",
     "output_type": "stream",
     "text": [
      "Epoch: 13, train_loss: 3.266233127625262, valid_loss: 3.27281277520316\n"
     ]
    },
    {
     "name": "stderr",
     "output_type": "stream",
     "text": [
      "100%|███████████████████████████████████████████████████████████████████████████████████████████████████████████████████████████████████████████████████████████████████████████████████| 7/7 [00:01<00:00,  4.37it/s]\n"
     ]
    },
    {
     "name": "stdout",
     "output_type": "stream",
     "text": [
      "Epoch: 14, train_loss: 3.2658509035579493, valid_loss: 3.270779779979161\n"
     ]
    },
    {
     "name": "stderr",
     "output_type": "stream",
     "text": [
      "100%|███████████████████████████████████████████████████████████████████████████████████████████████████████████████████████████████████████████████████████████████████████████████████| 7/7 [00:01<00:00,  4.38it/s]\n"
     ]
    },
    {
     "name": "stdout",
     "output_type": "stream",
     "text": [
      "Epoch: 15, train_loss: 3.265425037165157, valid_loss: 3.272116116115025\n"
     ]
    },
    {
     "name": "stderr",
     "output_type": "stream",
     "text": [
      "100%|███████████████████████████████████████████████████████████████████████████████████████████████████████████████████████████████████████████████████████████████████████████████████| 7/7 [00:01<00:00,  4.34it/s]\n"
     ]
    },
    {
     "name": "stdout",
     "output_type": "stream",
     "text": [
      "Epoch: 16, train_loss: 3.2659848049038747, valid_loss: 3.2708801882607594\n"
     ]
    },
    {
     "name": "stderr",
     "output_type": "stream",
     "text": [
      "100%|███████████████████████████████████████████████████████████████████████████████████████████████████████████████████████████████████████████████████████████████████████████████████| 7/7 [00:01<00:00,  4.03it/s]\n"
     ]
    },
    {
     "name": "stdout",
     "output_type": "stream",
     "text": [
      "Epoch: 17, train_loss: 3.265674634057967, valid_loss: 3.2711594785962785\n"
     ]
    },
    {
     "name": "stderr",
     "output_type": "stream",
     "text": [
      "100%|███████████████████████████████████████████████████████████████████████████████████████████████████████████████████████████████████████████████████████████████████████████████████| 7/7 [00:01<00:00,  4.25it/s]\n"
     ]
    },
    {
     "name": "stdout",
     "output_type": "stream",
     "text": [
      "Epoch: 18, train_loss: 3.2655978241904835, valid_loss: 3.270463330405099\n"
     ]
    },
    {
     "name": "stderr",
     "output_type": "stream",
     "text": [
      "100%|███████████████████████████████████████████████████████████████████████████████████████████████████████████████████████████████████████████████████████████████████████████████████| 7/7 [00:01<00:00,  4.29it/s]\n"
     ]
    },
    {
     "name": "stdout",
     "output_type": "stream",
     "text": [
      "Epoch: 19, train_loss: 3.2655281590633707, valid_loss: 3.272636651992798\n"
     ]
    },
    {
     "name": "stderr",
     "output_type": "stream",
     "text": [
      "100%|███████████████████████████████████████████████████████████████████████████████████████████████████████████████████████████████████████████████████████████████████████████████████| 7/7 [00:01<00:00,  4.25it/s]\n"
     ]
    },
    {
     "name": "stdout",
     "output_type": "stream",
     "text": [
      "Epoch: 20, train_loss: 3.2655868647528474, valid_loss: 3.270107780184065\n"
     ]
    },
    {
     "name": "stderr",
     "output_type": "stream",
     "text": [
      "100%|███████████████████████████████████████████████████████████████████████████████████████████████████████████████████████████████████████████████████████████████████████████████████| 7/7 [00:01<00:00,  4.25it/s]\n"
     ]
    },
    {
     "name": "stdout",
     "output_type": "stream",
     "text": [
      "Epoch: 21, train_loss: 3.264325950966507, valid_loss: 3.26991605758667\n"
     ]
    },
    {
     "name": "stderr",
     "output_type": "stream",
     "text": [
      "100%|███████████████████████████████████████████████████████████████████████████████████████████████████████████████████████████████████████████████████████████████████████████████████| 7/7 [00:01<00:00,  4.16it/s]\n"
     ]
    },
    {
     "name": "stdout",
     "output_type": "stream",
     "text": [
      "Epoch: 22, train_loss: 3.2647542640811107, valid_loss: 3.2711061409541538\n"
     ]
    },
    {
     "name": "stderr",
     "output_type": "stream",
     "text": [
      "100%|███████████████████████████████████████████████████████████████████████████████████████████████████████████████████████████████████████████████████████████████████████████████████| 7/7 [00:01<00:00,  4.20it/s]\n"
     ]
    },
    {
     "name": "stdout",
     "output_type": "stream",
     "text": [
      "Epoch: 23, train_loss: 3.2665738043237904, valid_loss: 3.269890717097691\n"
     ]
    },
    {
     "name": "stderr",
     "output_type": "stream",
     "text": [
      "100%|███████████████████████████████████████████████████████████████████████████████████████████████████████████████████████████████████████████████████████████████████████████████████| 7/7 [00:01<00:00,  4.26it/s]\n"
     ]
    },
    {
     "name": "stdout",
     "output_type": "stream",
     "text": [
      "Epoch: 24, train_loss: 3.265823305630293, valid_loss: 3.2683142253330777\n"
     ]
    },
    {
     "name": "stderr",
     "output_type": "stream",
     "text": [
      "100%|███████████████████████████████████████████████████████████████████████████████████████████████████████████████████████████████████████████████████████████████████████████████████| 7/7 [00:01<00:00,  4.31it/s]\n"
     ]
    },
    {
     "name": "stdout",
     "output_type": "stream",
     "text": [
      "Epoch: 25, train_loss: 3.2636557758831586, valid_loss: 3.268343210220337\n"
     ]
    },
    {
     "name": "stderr",
     "output_type": "stream",
     "text": [
      "100%|███████████████████████████████████████████████████████████████████████████████████████████████████████████████████████████████████████████████████████████████████████████████████| 7/7 [00:01<00:00,  4.31it/s]\n"
     ]
    },
    {
     "name": "stdout",
     "output_type": "stream",
     "text": [
      "Epoch: 26, train_loss: 3.2660350252370365, valid_loss: 3.2673941339765276\n"
     ]
    },
    {
     "name": "stderr",
     "output_type": "stream",
     "text": [
      "100%|███████████████████████████████████████████████████████████████████████████████████████████████████████████████████████████████████████████████████████████████████████████████████| 7/7 [00:01<00:00,  4.14it/s]\n"
     ]
    },
    {
     "name": "stdout",
     "output_type": "stream",
     "text": [
      "Epoch: 27, train_loss: 3.2656462700640567, valid_loss: 3.2663164819989885\n"
     ]
    },
    {
     "name": "stderr",
     "output_type": "stream",
     "text": [
      "100%|███████████████████████████████████████████████████████████████████████████████████████████████████████████████████████████████████████████████████████████████████████████████████| 7/7 [00:01<00:00,  4.20it/s]\n"
     ]
    },
    {
     "name": "stdout",
     "output_type": "stream",
     "text": [
      "Epoch: 28, train_loss: 3.2652803718066608, valid_loss: 3.267249175480434\n"
     ]
    },
    {
     "name": "stderr",
     "output_type": "stream",
     "text": [
      "100%|███████████████████████████████████████████████████████████████████████████████████████████████████████████████████████████████████████████████████████████████████████████████████| 7/7 [00:01<00:00,  4.18it/s]\n"
     ]
    },
    {
     "name": "stdout",
     "output_type": "stream",
     "text": [
      "Epoch: 29, train_loss: 3.2629139618795424, valid_loss: 3.264315264565604\n"
     ]
    },
    {
     "name": "stderr",
     "output_type": "stream",
     "text": [
      "100%|███████████████████████████████████████████████████████████████████████████████████████████████████████████████████████████████████████████████████████████████████████████████████| 7/7 [00:01<00:00,  4.19it/s]\n"
     ]
    },
    {
     "name": "stdout",
     "output_type": "stream",
     "text": [
      "Epoch: 30, train_loss: 3.2617200632564356, valid_loss: 3.2637361117771695\n"
     ]
    },
    {
     "name": "stderr",
     "output_type": "stream",
     "text": [
      "100%|███████████████████████████████████████████████████████████████████████████████████████████████████████████████████████████████████████████████████████████████████████████████████| 7/7 [00:01<00:00,  4.22it/s]\n"
     ]
    },
    {
     "name": "stdout",
     "output_type": "stream",
     "text": [
      "Epoch: 31, train_loss: 3.2635364258875614, valid_loss: 3.265591553279332\n"
     ]
    },
    {
     "name": "stderr",
     "output_type": "stream",
     "text": [
      "100%|███████████████████████████████████████████████████████████████████████████████████████████████████████████████████████████████████████████████████████████████████████████████████| 7/7 [00:01<00:00,  4.25it/s]\n"
     ]
    },
    {
     "name": "stdout",
     "output_type": "stream",
     "text": [
      "Epoch: 32, train_loss: 3.262374788034158, valid_loss: 3.26181960105896\n"
     ]
    },
    {
     "name": "stderr",
     "output_type": "stream",
     "text": [
      "100%|███████████████████████████████████████████████████████████████████████████████████████████████████████████████████████████████████████████████████████████████████████████████████| 7/7 [00:01<00:00,  4.25it/s]\n"
     ]
    },
    {
     "name": "stdout",
     "output_type": "stream",
     "text": [
      "Epoch: 33, train_loss: 3.2604179225984167, valid_loss: 3.2595175334385464\n"
     ]
    },
    {
     "name": "stderr",
     "output_type": "stream",
     "text": [
      "100%|███████████████████████████████████████████████████████████████████████████████████████████████████████████████████████████████████████████████████████████████████████████████████| 7/7 [00:01<00:00,  4.28it/s]\n"
     ]
    },
    {
     "name": "stdout",
     "output_type": "stream",
     "text": [
      "Epoch: 34, train_loss: 3.259820590253736, valid_loss: 3.2568415233067105\n"
     ]
    },
    {
     "name": "stderr",
     "output_type": "stream",
     "text": [
      "100%|███████████████████████████████████████████████████████████████████████████████████████████████████████████████████████████████████████████████████████████████████████████████████| 7/7 [00:01<00:00,  4.27it/s]\n"
     ]
    },
    {
     "name": "stdout",
     "output_type": "stream",
     "text": [
      "Epoch: 35, train_loss: 3.2547357004196917, valid_loss: 3.2491677488599504\n"
     ]
    },
    {
     "name": "stderr",
     "output_type": "stream",
     "text": [
      "100%|███████████████████████████████████████████████████████████████████████████████████████████████████████████████████████████████████████████████████████████████████████████████████| 7/7 [00:01<00:00,  4.27it/s]\n"
     ]
    },
    {
     "name": "stdout",
     "output_type": "stream",
     "text": [
      "Epoch: 36, train_loss: 3.247223002011659, valid_loss: 3.2464267185756137\n"
     ]
    },
    {
     "name": "stderr",
     "output_type": "stream",
     "text": [
      "100%|███████████████████████████████████████████████████████████████████████████████████████████████████████████████████████████████████████████████████████████████████████████████████| 7/7 [00:01<00:00,  4.28it/s]\n"
     ]
    },
    {
     "name": "stdout",
     "output_type": "stream",
     "text": [
      "Epoch: 37, train_loss: 3.2369691192126666, valid_loss: 3.2364669186728343\n"
     ]
    },
    {
     "name": "stderr",
     "output_type": "stream",
     "text": [
      "100%|███████████████████████████████████████████████████████████████████████████████████████████████████████████████████████████████████████████████████████████████████████████████████| 7/7 [00:01<00:00,  4.21it/s]\n"
     ]
    },
    {
     "name": "stdout",
     "output_type": "stream",
     "text": [
      "Epoch: 38, train_loss: 3.2160224562785666, valid_loss: 3.218390771320888\n"
     ]
    },
    {
     "name": "stderr",
     "output_type": "stream",
     "text": [
      "100%|███████████████████████████████████████████████████████████████████████████████████████████████████████████████████████████████████████████████████████████████████████████████████| 7/7 [00:01<00:00,  4.05it/s]\n"
     ]
    },
    {
     "name": "stdout",
     "output_type": "stream",
     "text": [
      "Epoch: 39, train_loss: 3.1870425333742234, valid_loss: 3.1716891697474887\n"
     ]
    },
    {
     "name": "stderr",
     "output_type": "stream",
     "text": [
      "100%|███████████████████████████████████████████████████████████████████████████████████████████████████████████████████████████████████████████████████████████████████████████████████| 7/7 [00:01<00:00,  4.19it/s]\n"
     ]
    },
    {
     "name": "stdout",
     "output_type": "stream",
     "text": [
      "Epoch: 40, train_loss: 3.1388245215181443, valid_loss: 3.104903527668544\n"
     ]
    },
    {
     "name": "stderr",
     "output_type": "stream",
     "text": [
      "100%|███████████████████████████████████████████████████████████████████████████████████████████████████████████████████████████████████████████████████████████████████████████████████| 7/7 [00:01<00:00,  4.17it/s]\n"
     ]
    },
    {
     "name": "stdout",
     "output_type": "stream",
     "text": [
      "Epoch: 41, train_loss: 3.0659249923268304, valid_loss: 2.993291446140834\n"
     ]
    },
    {
     "name": "stderr",
     "output_type": "stream",
     "text": [
      "100%|███████████████████████████████████████████████████████████████████████████████████████████████████████████████████████████████████████████████████████████████████████████████████| 7/7 [00:01<00:00,  4.29it/s]\n"
     ]
    },
    {
     "name": "stdout",
     "output_type": "stream",
     "text": [
      "Epoch: 42, train_loss: 2.9561569143514164, valid_loss: 2.826775755201067\n"
     ]
    },
    {
     "name": "stderr",
     "output_type": "stream",
     "text": [
      "100%|███████████████████████████████████████████████████████████████████████████████████████████████████████████████████████████████████████████████████████████████████████████████████| 7/7 [00:01<00:00,  4.31it/s]\n"
     ]
    },
    {
     "name": "stdout",
     "output_type": "stream",
     "text": [
      "Epoch: 43, train_loss: 2.7820710002398883, valid_loss: 2.6079328060150146\n"
     ]
    },
    {
     "name": "stderr",
     "output_type": "stream",
     "text": [
      "100%|███████████████████████████████████████████████████████████████████████████████████████████████████████████████████████████████████████████████████████████████████████████████████| 7/7 [00:01<00:00,  4.18it/s]\n"
     ]
    },
    {
     "name": "stdout",
     "output_type": "stream",
     "text": [
      "Epoch: 44, train_loss: 2.539154169989414, valid_loss: 2.3212624277387346\n"
     ]
    },
    {
     "name": "stderr",
     "output_type": "stream",
     "text": [
      "100%|██████████████████████████████████████████████████████████████████████████████████████████████████████████████████████████████████████████████████████████████████████████████████| 7/7 [17:56<00:00, 153.73s/it]\n"
     ]
    },
    {
     "name": "stdout",
     "output_type": "stream",
     "text": [
      "Epoch: 45, train_loss: 2.2654689960792416, valid_loss: 2.0890959330967496\n"
     ]
    },
    {
     "name": "stderr",
     "output_type": "stream",
     "text": [
      "100%|███████████████████████████████████████████████████████████████████████████████████████████████████████████████████████████████████████████████████████████████████████████████████| 7/7 [00:01<00:00,  4.21it/s]\n"
     ]
    },
    {
     "name": "stdout",
     "output_type": "stream",
     "text": [
      "Epoch: 46, train_loss: 1.9620002175940843, valid_loss: 1.7164577756609236\n"
     ]
    },
    {
     "name": "stderr",
     "output_type": "stream",
     "text": [
      "100%|███████████████████████████████████████████████████████████████████████████████████████████████████████████████████████████████████████████████████████████████████████████████████| 7/7 [00:01<00:00,  4.20it/s]\n"
     ]
    },
    {
     "name": "stdout",
     "output_type": "stream",
     "text": [
      "Epoch: 47, train_loss: 1.686527093902963, valid_loss: 1.4536545957837785\n"
     ]
    },
    {
     "name": "stderr",
     "output_type": "stream",
     "text": [
      "100%|███████████████████████████████████████████████████████████████████████████████████████████████████████████████████████████████████████████████████████████████████████████████████| 7/7 [00:01<00:00,  4.26it/s]\n"
     ]
    },
    {
     "name": "stdout",
     "output_type": "stream",
     "text": [
      "Epoch: 48, train_loss: 1.4597220362209884, valid_loss: 1.2416301284517561\n"
     ]
    },
    {
     "name": "stderr",
     "output_type": "stream",
     "text": [
      "100%|███████████████████████████████████████████████████████████████████████████████████████████████████████████████████████████████████████████████████████████████████████████████████| 7/7 [00:01<00:00,  4.16it/s]\n"
     ]
    },
    {
     "name": "stdout",
     "output_type": "stream",
     "text": [
      "Epoch: 49, train_loss: 1.2316664242353597, valid_loss: 1.0010216236114502\n"
     ]
    },
    {
     "name": "stderr",
     "output_type": "stream",
     "text": [
      "100%|███████████████████████████████████████████████████████████████████████████████████████████████████████████████████████████████████████████████████████████████████████████████████| 7/7 [00:01<00:00,  4.14it/s]\n"
     ]
    },
    {
     "name": "stdout",
     "output_type": "stream",
     "text": [
      "Epoch: 50, train_loss: 1.05352796785167, valid_loss: 0.8595320667539325\n"
     ]
    },
    {
     "name": "stderr",
     "output_type": "stream",
     "text": [
      "100%|███████████████████████████████████████████████████████████████████████████████████████████████████████████████████████████████████████████████████████████████████████████████████| 7/7 [00:01<00:00,  4.25it/s]\n"
     ]
    },
    {
     "name": "stdout",
     "output_type": "stream",
     "text": [
      "Epoch: 51, train_loss: 0.9204794823146257, valid_loss: 0.7489543812615531\n"
     ]
    },
    {
     "name": "stderr",
     "output_type": "stream",
     "text": [
      "100%|███████████████████████████████████████████████████████████████████████████████████████████████████████████████████████████████████████████████████████████████████████████████████| 7/7 [00:01<00:00,  4.29it/s]\n"
     ]
    },
    {
     "name": "stdout",
     "output_type": "stream",
     "text": [
      "Epoch: 52, train_loss: 0.8076510185100993, valid_loss: 0.688947890486036\n"
     ]
    },
    {
     "name": "stderr",
     "output_type": "stream",
     "text": [
      "100%|███████████████████████████████████████████████████████████████████████████████████████████████████████████████████████████████████████████████████████████████████████████████████| 7/7 [00:01<00:00,  4.08it/s]\n"
     ]
    },
    {
     "name": "stdout",
     "output_type": "stream",
     "text": [
      "Epoch: 53, train_loss: 0.7310786511077255, valid_loss: 0.5780706916536603\n"
     ]
    },
    {
     "name": "stderr",
     "output_type": "stream",
     "text": [
      "100%|███████████████████████████████████████████████████████████████████████████████████████████████████████████████████████████████████████████████████████████████████████████████████| 7/7 [00:01<00:00,  4.30it/s]\n"
     ]
    },
    {
     "name": "stdout",
     "output_type": "stream",
     "text": [
      "Epoch: 54, train_loss: 0.6389872182588108, valid_loss: 0.5211972892284393\n"
     ]
    },
    {
     "name": "stderr",
     "output_type": "stream",
     "text": [
      "100%|███████████████████████████████████████████████████████████████████████████████████████████████████████████████████████████████████████████████████████████████████████████████████| 7/7 [00:01<00:00,  4.26it/s]\n"
     ]
    },
    {
     "name": "stdout",
     "output_type": "stream",
     "text": [
      "Epoch: 55, train_loss: 0.5780610676671638, valid_loss: 0.47896856495312284\n"
     ]
    },
    {
     "name": "stderr",
     "output_type": "stream",
     "text": [
      "100%|███████████████████████████████████████████████████████████████████████████████████████████████████████████████████████████████████████████████████████████████████████████████████| 7/7 [00:01<00:00,  4.28it/s]\n"
     ]
    },
    {
     "name": "stdout",
     "output_type": "stream",
     "text": [
      "Epoch: 56, train_loss: 0.5224992549810253, valid_loss: 0.46335981147629873\n"
     ]
    },
    {
     "name": "stderr",
     "output_type": "stream",
     "text": [
      "100%|███████████████████████████████████████████████████████████████████████████████████████████████████████████████████████████████████████████████████████████████████████████████████| 7/7 [00:01<00:00,  4.23it/s]\n"
     ]
    },
    {
     "name": "stdout",
     "output_type": "stream",
     "text": [
      "Epoch: 57, train_loss: 0.4815919179408277, valid_loss: 0.4056727077279772\n"
     ]
    },
    {
     "name": "stderr",
     "output_type": "stream",
     "text": [
      "100%|███████████████████████████████████████████████████████████████████████████████████████████████████████████████████████████████████████████████████████████████████████████████████| 7/7 [00:01<00:00,  4.24it/s]\n"
     ]
    },
    {
     "name": "stdout",
     "output_type": "stream",
     "text": [
      "Epoch: 58, train_loss: 0.44582129648474395, valid_loss: 0.3855384375367846\n"
     ]
    },
    {
     "name": "stderr",
     "output_type": "stream",
     "text": [
      "100%|███████████████████████████████████████████████████████████████████████████████████████████████████████████████████████████████████████████████████████████████████████████████████| 7/7 [00:01<00:00,  4.29it/s]\n"
     ]
    },
    {
     "name": "stdout",
     "output_type": "stream",
     "text": [
      "Epoch: 59, train_loss: 0.41009193267978605, valid_loss: 0.33314357910837444\n"
     ]
    },
    {
     "name": "stderr",
     "output_type": "stream",
     "text": [
      "100%|███████████████████████████████████████████████████████████████████████████████████████████████████████████████████████████████████████████████████████████████████████████████████| 7/7 [00:01<00:00,  4.21it/s]\n"
     ]
    },
    {
     "name": "stdout",
     "output_type": "stream",
     "text": [
      "Epoch: 60, train_loss: 0.37358621104818873, valid_loss: 0.3489828641925539\n"
     ]
    },
    {
     "name": "stderr",
     "output_type": "stream",
     "text": [
      "100%|███████████████████████████████████████████████████████████████████████████████████████████████████████████████████████████████████████████████████████████████████████████████████| 7/7 [00:01<00:00,  4.27it/s]\n"
     ]
    },
    {
     "name": "stdout",
     "output_type": "stream",
     "text": [
      "Epoch: 61, train_loss: 0.350843358235281, valid_loss: 0.31593504335199085\n"
     ]
    },
    {
     "name": "stderr",
     "output_type": "stream",
     "text": [
      "100%|███████████████████████████████████████████████████████████████████████████████████████████████████████████████████████████████████████████████████████████████████████████████████| 7/7 [00:01<00:00,  4.21it/s]\n"
     ]
    },
    {
     "name": "stdout",
     "output_type": "stream",
     "text": [
      "Epoch: 62, train_loss: 0.32874099568265386, valid_loss: 0.303127184510231\n"
     ]
    },
    {
     "name": "stderr",
     "output_type": "stream",
     "text": [
      "100%|███████████████████████████████████████████████████████████████████████████████████████████████████████████████████████████████████████████████████████████████████████████████████| 7/7 [00:01<00:00,  4.27it/s]\n"
     ]
    },
    {
     "name": "stdout",
     "output_type": "stream",
     "text": [
      "Epoch: 63, train_loss: 0.3004678639232135, valid_loss: 0.28525447632585255\n"
     ]
    },
    {
     "name": "stderr",
     "output_type": "stream",
     "text": [
      "100%|███████████████████████████████████████████████████████████████████████████████████████████████████████████████████████████████████████████████████████████████████████████████████| 7/7 [00:01<00:00,  4.25it/s]\n"
     ]
    },
    {
     "name": "stdout",
     "output_type": "stream",
     "text": [
      "Epoch: 64, train_loss: 0.2888764047720393, valid_loss: 0.2703487298318318\n"
     ]
    },
    {
     "name": "stderr",
     "output_type": "stream",
     "text": [
      "100%|███████████████████████████████████████████████████████████████████████████████████████████████████████████████████████████████████████████████████████████████████████████████████| 7/7 [00:01<00:00,  4.30it/s]\n"
     ]
    },
    {
     "name": "stdout",
     "output_type": "stream",
     "text": [
      "Epoch: 65, train_loss: 0.2659185167218818, valid_loss: 0.24392497965267726\n"
     ]
    },
    {
     "name": "stderr",
     "output_type": "stream",
     "text": [
      "100%|███████████████████████████████████████████████████████████████████████████████████████████████████████████████████████████████████████████████████████████████████████████████████| 7/7 [00:01<00:00,  4.26it/s]\n"
     ]
    },
    {
     "name": "stdout",
     "output_type": "stream",
     "text": [
      "Epoch: 66, train_loss: 0.24934415103959257, valid_loss: 0.2502798012324742\n"
     ]
    },
    {
     "name": "stderr",
     "output_type": "stream",
     "text": [
      "100%|███████████████████████████████████████████████████████████████████████████████████████████████████████████████████████████████████████████████████████████████████████████████████| 7/7 [00:01<00:00,  4.29it/s]\n"
     ]
    },
    {
     "name": "stdout",
     "output_type": "stream",
     "text": [
      "Epoch: 67, train_loss: 0.22734482171105558, valid_loss: 0.21337413787841797\n"
     ]
    },
    {
     "name": "stderr",
     "output_type": "stream",
     "text": [
      "100%|███████████████████████████████████████████████████████████████████████████████████████████████████████████████████████████████████████████████████████████████████████████████████| 7/7 [00:01<00:00,  3.91it/s]\n"
     ]
    },
    {
     "name": "stdout",
     "output_type": "stream",
     "text": [
      "Epoch: 68, train_loss: 0.21748767023692367, valid_loss: 0.20928950714213507\n"
     ]
    },
    {
     "name": "stderr",
     "output_type": "stream",
     "text": [
      "100%|███████████████████████████████████████████████████████████████████████████████████████████████████████████████████████████████████████████████████████████████████████████████████| 7/7 [00:01<00:00,  4.30it/s]\n"
     ]
    },
    {
     "name": "stdout",
     "output_type": "stream",
     "text": [
      "Epoch: 69, train_loss: 0.20719872708203363, valid_loss: 0.24687924342496054\n"
     ]
    },
    {
     "name": "stderr",
     "output_type": "stream",
     "text": [
      "100%|███████████████████████████████████████████████████████████████████████████████████████████████████████████████████████████████████████████████████████████████████████████████████| 7/7 [00:01<00:00,  4.37it/s]\n"
     ]
    },
    {
     "name": "stdout",
     "output_type": "stream",
     "text": [
      "Epoch: 70, train_loss: 0.204449361587157, valid_loss: 0.21823595464229584\n"
     ]
    },
    {
     "name": "stderr",
     "output_type": "stream",
     "text": [
      "100%|███████████████████████████████████████████████████████████████████████████████████████████████████████████████████████████████████████████████████████████████████████████████████| 7/7 [00:01<00:00,  4.32it/s]\n"
     ]
    },
    {
     "name": "stdout",
     "output_type": "stream",
     "text": [
      "Epoch: 71, train_loss: 0.19185880119683313, valid_loss: 0.22173149032252176\n",
      "Patience at 9\n"
     ]
    },
    {
     "name": "stderr",
     "output_type": "stream",
     "text": [
      "100%|███████████████████████████████████████████████████████████████████████████████████████████████████████████████████████████████████████████████████████████████████████████████████| 7/7 [00:01<00:00,  4.28it/s]\n"
     ]
    },
    {
     "name": "stdout",
     "output_type": "stream",
     "text": [
      "Epoch: 72, train_loss: 0.1830983078870617, valid_loss: 0.18640680185386113\n",
      "Patience at 8\n"
     ]
    },
    {
     "name": "stderr",
     "output_type": "stream",
     "text": [
      "100%|███████████████████████████████████████████████████████████████████████████████████████████████████████████████████████████████████████████████████████████████████████████████████| 7/7 [00:01<00:00,  4.31it/s]\n"
     ]
    },
    {
     "name": "stdout",
     "output_type": "stream",
     "text": [
      "Epoch: 73, train_loss: 0.1733730884849048, valid_loss: 0.21329673273222788\n",
      "Patience at 7\n"
     ]
    },
    {
     "name": "stderr",
     "output_type": "stream",
     "text": [
      "100%|███████████████████████████████████████████████████████████████████████████████████████████████████████████████████████████████████████████████████████████████████████████████████| 7/7 [00:01<00:00,  4.31it/s]\n"
     ]
    },
    {
     "name": "stdout",
     "output_type": "stream",
     "text": [
      "Epoch: 74, train_loss: 0.1671187113054463, valid_loss: 0.18800118352685655\n",
      "Patience at 6\n"
     ]
    },
    {
     "name": "stderr",
     "output_type": "stream",
     "text": [
      "100%|███████████████████████████████████████████████████████████████████████████████████████████████████████████████████████████████████████████████████████████████████████████████████| 7/7 [00:01<00:00,  4.33it/s]\n"
     ]
    },
    {
     "name": "stdout",
     "output_type": "stream",
     "text": [
      "Epoch: 75, train_loss: 0.15749440342187881, valid_loss: 0.18565898495061056\n",
      "Patience at 5\n"
     ]
    },
    {
     "name": "stderr",
     "output_type": "stream",
     "text": [
      "100%|███████████████████████████████████████████████████████████████████████████████████████████████████████████████████████████████████████████████████████████████████████████████████| 7/7 [00:01<00:00,  4.12it/s]\n"
     ]
    },
    {
     "name": "stdout",
     "output_type": "stream",
     "text": [
      "Epoch: 76, train_loss: 0.15295699763982024, valid_loss: 0.1832383551767894\n",
      "Patience at 4\n"
     ]
    },
    {
     "name": "stderr",
     "output_type": "stream",
     "text": [
      "100%|███████████████████████████████████████████████████████████████████████████████████████████████████████████████████████████████████████████████████████████████████████████████████| 7/7 [00:01<00:00,  4.13it/s]\n"
     ]
    },
    {
     "name": "stdout",
     "output_type": "stream",
     "text": [
      "Epoch: 77, train_loss: 0.14596207623110444, valid_loss: 0.18742498861891882\n",
      "Patience at 3\n"
     ]
    },
    {
     "name": "stderr",
     "output_type": "stream",
     "text": [
      "100%|███████████████████████████████████████████████████████████████████████████████████████████████████████████████████████████████████████████████████████████████████████████████████| 7/7 [00:01<00:00,  4.12it/s]\n"
     ]
    },
    {
     "name": "stdout",
     "output_type": "stream",
     "text": [
      "Epoch: 78, train_loss: 0.14584533222874657, valid_loss: 0.18276719110352652\n",
      "Patience at 2\n"
     ]
    },
    {
     "name": "stderr",
     "output_type": "stream",
     "text": [
      "100%|███████████████████████████████████████████████████████████████████████████████████████████████████████████████████████████████████████████████████████████████████████████████████| 7/7 [00:01<00:00,  4.28it/s]\n"
     ]
    },
    {
     "name": "stdout",
     "output_type": "stream",
     "text": [
      "Epoch: 79, train_loss: 0.14443358046109558, valid_loss: 0.1822985080736024\n",
      "Patience at 1\n"
     ]
    },
    {
     "name": "stderr",
     "output_type": "stream",
     "text": [
      "100%|███████████████████████████████████████████████████████████████████████████████████████████████████████████████████████████████████████████████████████████████████████████████████| 7/7 [00:01<00:00,  4.30it/s]\n"
     ]
    },
    {
     "name": "stdout",
     "output_type": "stream",
     "text": [
      "Epoch: 80, train_loss: 0.14038891064338996, valid_loss: 0.20616240267242705\n",
      "Patience at 0\n"
     ]
    },
    {
     "name": "stderr",
     "output_type": "stream",
     "text": [
      "100%|███████████████████████████████████████████████████████████████████████████████████████████████████████████████████████████████████████████████████████████████████████████████████| 7/7 [00:01<00:00,  4.25it/s]"
     ]
    },
    {
     "name": "stdout",
     "output_type": "stream",
     "text": [
      "Epoch: 81, train_loss: 0.13634015314403128, valid_loss: 0.1729146550808634\n",
      "Early Stopping Implemented.\n"
     ]
    },
    {
     "name": "stderr",
     "output_type": "stream",
     "text": [
      "\n"
     ]
    }
   ],
   "source": [
    "patience = 10\n",
    "count = 0\n",
    "prev_val_loss = 0\n",
    "threshold = 0.05\n",
    "loss = []\n",
    "val_loss = []\n",
    "\n",
    "for epoch in range(EPOCHS):\n",
    "    train_loss = train_function(model, train_loader, optimizer)\n",
    "    valid_preds, valid_loss = eval_function(model, test_loader)\n",
    "    valid_cap_preds = []\n",
    "\n",
    "    for vp in valid_preds:\n",
    "        current_preds = decode_predictions(vp, lbl_enc)\n",
    "        valid_cap_preds.extend(current_preds)\n",
    "        \n",
    "    print(f\"Epoch: {epoch}, train_loss: {train_loss}, valid_loss: {valid_loss}\")\n",
    "    \n",
    "    \n",
    "    res = early_stopping(patience, count, prev_val_loss, valid_loss, threshold)\n",
    "    \n",
    "    loss.append(train_loss)\n",
    "    val_loss.append(valid_loss)\n",
    "    \n",
    "    if res == \"stop\":\n",
    "        print(\"Early Stopping Implemented.\")\n",
    "        final_epoch = epoch\n",
    "        break\n",
    "    elif res == \"count\" and train_loss < 0.2:\n",
    "        count += 1\n",
    "        print(f\"Patience at {patience-count}\")\n",
    "    else:\n",
    "        count = 0\n",
    "        prev_val_loss = valid_loss"
   ]
  },
  {
   "cell_type": "code",
   "execution_count": 67,
   "metadata": {
    "id": "aZEAv1GMfPy7"
   },
   "outputs": [],
   "source": [
    "torch.save(model.state_dict(), \"./model.bin\")"
   ]
  },
  {
   "cell_type": "markdown",
   "metadata": {},
   "source": [
    "# Model Performance\n",
    "\n",
    "Построим график, показывающий зависимость loss на обучении и валидации от эпохи. "
   ]
  },
  {
   "cell_type": "code",
   "execution_count": 18,
   "metadata": {},
   "outputs": [
    {
     "data": {
      "text/plain": [
       "<AxesSubplot: title={'center': 'Loss During Epoch Training'}, xlabel='Epoch No.', ylabel='Loss Value'>"
      ]
     },
     "execution_count": 18,
     "metadata": {},
     "output_type": "execute_result"
    },
    {
     "data": {
      "image/png": "[encoded data removed]",
      "text/plain": [
       "<Figure size 1500x500 with 1 Axes>"
      ]
     },
     "metadata": {},
     "output_type": "display_data"
    }
   ],
   "source": [
    "import matplotlib.pyplot as plt\n",
    "import seaborn as sns\n",
    "\n",
    "df_pytorch = pd.DataFrame({\"loss\": loss, \"val_loss\": val_loss})\n",
    "plt.figure(figsize=(15,5))\n",
    "plt.grid()\n",
    "plt.xlabel(\"Epoch No.\")\n",
    "plt.ylabel(\"Loss Value\")\n",
    "plt.title(\"Loss During Epoch Training\")\n",
    "sns.lineplot(data=df_pytorch, palette=\"tab10\", linewidth=2.5)"
   ]
  },
  {
   "cell_type": "markdown",
   "metadata": {},
   "source": [
    "# Decode Predictions\n",
    "\n",
    "результаты прогнозирования необходимо перевести в исходный вид 5 значной капчи. Для этого мы будем убирать повторяющиеся символы в соседних сегментах изображения и заменять '-' на пропуски."
   ]
  },
  {
   "cell_type": "code",
   "execution_count": 19,
   "metadata": {},
   "outputs": [],
   "source": [
    "def predict_function(model, data_loader):\n",
    "    model.eval()\n",
    "    fin_preds = []\n",
    "    with torch.no_grad(): \n",
    "        for data in data_loader:\n",
    "            for k, v in data.items():\n",
    "                data[k] = v.to(DEVICE)\n",
    "            \n",
    "            batch_preds, _ = model(**data)\n",
    "            fin_preds.append(batch_preds)\n",
    "\n",
    "        return fin_preds"
   ]
  },
  {
   "cell_type": "code",
   "execution_count": 20,
   "metadata": {},
   "outputs": [],
   "source": [
    "def clean_decoded_predictions(unclean_predictions):\n",
    "    cleaned_predictions = []\n",
    "    for i in unclean_predictions:\n",
    "        if i != \"-\":\n",
    "            cleaned_predictions.append(i)\n",
    "            \n",
    "    cleaned_predictions = \"\".join(cleaned_predictions)\n",
    "    \n",
    "    if len(cleaned_predictions) == 10:\n",
    "        return cleaned_predictions   \n",
    "    \n",
    "    else:\n",
    "        prev = \"-\"\n",
    "        new_cleaned_predictions = []\n",
    "        for char in cleaned_predictions:\n",
    "            if char == prev:\n",
    "                continue\n",
    "            new_cleaned_predictions.append(char)\n",
    "            prev = char\n",
    "        res = \"\".join(new_cleaned_predictions)\n",
    "        return res\n",
    "    \n",
    "def predict_captcha(model, eval_loader, image_path):\n",
    "    plt.figure(figsize=(15,5))\n",
    "    image = mpimg.imread(image_path[0])\n",
    "    target = image_path[0].split(\"/\")[-1].split(\".\")[0]\n",
    "    plt.title(image_path[0].split(\"/\")[-1])\n",
    "    plt.imshow(image)\n",
    "    \n",
    "    valid_preds = predict_function(model, eval_loader)\n",
    "    for vp in valid_preds:\n",
    "        current_preds = decode_predictions(vp, lbl_enc)\n",
    "    \n",
    "    preds = clean_decoded_predictions(current_preds[0])\n",
    "    \n",
    "    success = True if preds == target else False\n",
    "\n",
    "    return {\n",
    "        \"success\": success,\n",
    "        \"prediction\": preds,\n",
    "        \"real\": target\n",
    "    }"
   ]
  },
  {
   "cell_type": "markdown",
   "metadata": {},
   "source": [
    "# Char Error Rate \n",
    "\n",
    "Вычислим посимвольную ошибку нашей модели на тестовых данных."
   ]
  },
  {
   "cell_type": "code",
   "execution_count": 21,
   "metadata": {},
   "outputs": [
    {
     "name": "stderr",
     "output_type": "stream",
     "text": [
      "/opt/homebrew/lib/python3.10/site-packages/torchvision/io/image.py:13: UserWarning: Failed to load image Python extension: dlopen(/opt/homebrew/lib/python3.10/site-packages/torchvision/image.so, 0x0006): Symbol not found: __ZN2at4_ops19empty_memory_format4callEN3c108ArrayRefINS2_6SymIntEEENS2_8optionalINS2_10ScalarTypeEEENS6_INS2_6LayoutEEENS6_INS2_6DeviceEEENS6_IbEENS6_INS2_12MemoryFormatEEE\n",
      "  Referenced from: <0B637046-A38B-3A5C-80C6-E847C27DCCD5> /opt/homebrew/lib/python3.10/site-packages/torchvision/image.so\n",
      "  Expected in:     <BB02660F-1D5B-3388-B48B-486877D726F6> /opt/homebrew/lib/python3.10/site-packages/torch/lib/libtorch_cpu.dylib\n",
      "  warn(f\"Failed to load image Python extension: {e}\")\n",
      "  0%|                                                                                                                                                                                           | 0/7 [00:00<?, ?it/s]/var/folders/46/9pmddt197tg1cz85qrsc593w0000gn/T/ipykernel_2984/1854501779.py:22: DeprecationWarning: BILINEAR is deprecated and will be removed in Pillow 10 (2023-07-01). Use Resampling.BILINEAR instead.\n",
      "  image = image.resize((self.resize[1], self.resize[0]), resample=Image.BILINEAR)\n",
      "100%|███████████████████████████████████████████████████████████████████████████████████████████████████████████████████████████████████████████████████████████████████████████████████| 7/7 [00:01<00:00,  4.07it/s]"
     ]
    },
    {
     "name": "stdout",
     "output_type": "stream",
     "text": [
      "tensor(0.1047)\n"
     ]
    },
    {
     "name": "stderr",
     "output_type": "stream",
     "text": [
      "\n"
     ]
    }
   ],
   "source": [
    "from torchmetrics import CharErrorRate\n",
    "\n",
    "def caclulate_cer(model, data_loader, lbl_enc):\n",
    "    valid_preds, valid_loss = eval_function(model, data_loader)\n",
    "    valid_cap_preds = []\n",
    "\n",
    "    for vp in valid_preds:\n",
    "        current_preds = decode_predictions(vp, lbl_enc)\n",
    "        valid_cap_preds.extend(current_preds)\n",
    "\n",
    "    clean_preds = [clean_decoded_predictions(x) for x in valid_cap_preds]\n",
    "    clean_preds\n",
    "\n",
    "\n",
    "    cer = CharErrorRate()\n",
    "    return cer(clean_preds, test_orig_targets)\n",
    "\n",
    "print(caclulate_cer(model, test_loader, lbl_enc))"
   ]
  },
  {
   "cell_type": "markdown",
   "metadata": {},
   "source": [
    "# Вывод\n",
    "\n",
    "\n",
    "Мы получили CER  0.1047 на тестовой выборке. Дальнейшее улучшение может быть связано с уменьшением лернингрейта, ослаблением early_stopping и увеличением числа эпох."
   ]
  }
 ],
 "metadata": {
  "kernelspec": {
   "display_name": "Python 3 (ipykernel)",
   "language": "python",
   "name": "python3"
  },
  "language_info": {
   "codemirror_mode": {
    "name": "ipython",
    "version": 3
   },
   "file_extension": ".py",
   "mimetype": "text/x-python",
   "name": "python",
   "nbconvert_exporter": "python",
   "pygments_lexer": "ipython3",
   "version": "3.10.8"
  }
 },
 "nbformat": 4,
 "nbformat_minor": 4
}
